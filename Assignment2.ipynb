{
  "nbformat": 4,
  "nbformat_minor": 0,
  "metadata": {
    "colab": {
      "name": "Assignment2.ipynb",
      "provenance": [],
      "collapsed_sections": []
    },
    "kernelspec": {
      "name": "python3",
      "display_name": "Python 3"
    },
    "language_info": {
      "name": "python"
    }
  },
  "cells": [
    {
      "cell_type": "code",
      "metadata": {
        "id": "sLtuhC9TlRwv"
      },
      "source": [
        "import numpy as np\n",
        "import matplotlib.pyplot as plt\n",
        "import torch\n",
        "from torch.autograd import Variable"
      ],
      "execution_count": 1,
      "outputs": []
    },
    {
      "cell_type": "markdown",
      "metadata": {
        "id": "ICMr-IcgkEo6"
      },
      "source": [
        "<p>Generate 20 data points.</p>"
      ]
    },
    {
      "cell_type": "code",
      "metadata": {
        "id": "MPbQsF-Wj_3v"
      },
      "source": [
        "x = torch.Tensor(np.random.uniform(0, 1, 20))\n",
        "n = torch.Tensor(np.random.normal(0, 1, 20))\n",
        "y = torch.Tensor(np.sin(2*np.pi*x) + 0.1*n)"
      ],
      "execution_count": 2,
      "outputs": []
    },
    {
      "cell_type": "markdown",
      "metadata": {
        "id": "d7pmraRnoSNR"
      },
      "source": [
        "<p>Split into 10 train and 10 test data points. </p>"
      ]
    },
    {
      "cell_type": "code",
      "metadata": {
        "id": "KHzDvXKdlfnA"
      },
      "source": [
        "train_x = x[:10]\n",
        "train_y = y[:10]\n",
        "\n",
        "test_x = x[10:]\n",
        "test_y = y[10:]"
      ],
      "execution_count": 3,
      "outputs": []
    },
    {
      "cell_type": "markdown",
      "metadata": {
        "id": "GWIZpvugxK0P"
      },
      "source": [
        "<p>Define our models: zero order, first order, third order, and ninth order regression. </p>"
      ]
    },
    {
      "cell_type": "code",
      "metadata": {
        "id": "BkAz1FLoogyi"
      },
      "source": [
        "class ZeroOrder(torch.nn.Module):\n",
        "  def __init__(self):\n",
        "    self.w0 = Variable(torch.Tensor([1.0]), requires_grad=True)\n",
        "    self.total_loss = 0\n",
        "  \n",
        "  def forward(self, x):\n",
        "    return self.w0\n",
        "  \n",
        "  def loss(self, x, y):\n",
        "    y_pred = self.forward(x)\n",
        "    return (y_pred - y) * (y_pred - y)\n",
        "\n",
        "  def train(self, epochs, train_x, train_y):\n",
        "    for epoch in range(epochs):\n",
        "      self.total_loss = 0\n",
        "      for x_val, y_val in zip(train_x, train_y):\n",
        "        l = self.loss(x_val, y_val)\n",
        "        self.total_loss += l.data.numpy()\n",
        "        l.backward()\n",
        "\n",
        "        self.w0.data = self.w0.data - 0.01*self.w0.grad.data\n",
        "        self.w0.grad.data.zero_()\n",
        "      self.total_loss = self.total_loss/len(train_x)\n",
        "      #print(\"training progress: \", epoch, self.total_loss.data[0])"
      ],
      "execution_count": 4,
      "outputs": []
    },
    {
      "cell_type": "code",
      "metadata": {
        "id": "FyAtEAru0czM"
      },
      "source": [
        "class FirstOrder(torch.nn.Module):\n",
        "  def __init__(self):\n",
        "    self.w0 = Variable(torch.Tensor([1.0]), requires_grad=True)\n",
        "    self.w1 = Variable(torch.Tensor([1.0]), requires_grad=True)\n",
        "    self.total_loss = 0\n",
        "  \n",
        "  def forward(self, x):\n",
        "    return self.w1*x + self.w0\n",
        "  \n",
        "  def loss(self, x, y):\n",
        "    y_pred = self.forward(x)\n",
        "    return (y_pred - y) * (y_pred - y)\n",
        "\n",
        "  def train(self, epochs, train_x, train_y):\n",
        "    for epoch in range(epochs):\n",
        "      self.total_loss = 0\n",
        "      for x_val, y_val in zip(train_x, train_y):\n",
        "        l = self.loss(x_val, y_val)\n",
        "        self.total_loss += l.data.numpy()\n",
        "        l.backward()\n",
        "\n",
        "        self.w0.data = self.w0.data - 0.01*self.w0.grad.data\n",
        "        self.w1.data = self.w1.data - 0.01*self.w1.grad.data\n",
        "        self.w0.grad.data.zero_()\n",
        "        self.w1.grad.data.zero_()\n",
        "      \n",
        "      self.total_loss = self.total_loss/len(train_x)\n",
        "      #print(\"training progress: \", epoch, self.total_loss.data[0])"
      ],
      "execution_count": 5,
      "outputs": []
    },
    {
      "cell_type": "code",
      "metadata": {
        "id": "Kh9Uf0zJ1H57"
      },
      "source": [
        "class ThirdOrder(torch.nn.Module):\n",
        "  def __init__(self):\n",
        "    self.w0 = Variable(torch.Tensor([1.0]), requires_grad=True)\n",
        "    self.w1 = Variable(torch.Tensor([1.0]), requires_grad=True)\n",
        "    self.w2 = Variable(torch.Tensor([1.0]), requires_grad=True)\n",
        "    self.w3 = Variable(torch.Tensor([1.0]), requires_grad=True)\n",
        "    self.total_loss = 0\n",
        "  \n",
        "  def forward(self, x):\n",
        "    return self.w3*x*x*x + self.w2*x*x + self.w1*x + self.w0\n",
        "  \n",
        "  def loss(self, x, y):\n",
        "    y_pred = self.forward(x)\n",
        "    return (y_pred - y) * (y_pred - y)\n",
        "\n",
        "  def train(self, epochs, train_x, train_y):\n",
        "    for epoch in range(epochs):\n",
        "      self.total_loss = 0\n",
        "      for x_val, y_val in zip(train_x, train_y):\n",
        "        l = self.loss(x_val, y_val)\n",
        "        self.total_loss += l.data.numpy()\n",
        "        l.backward()\n",
        "\n",
        "        self.w0.data = self.w0.data - 0.01*self.w0.grad.data\n",
        "        self.w1.data = self.w1.data - 0.01*self.w1.grad.data\n",
        "        self.w2.data = self.w2.data - 0.01*self.w2.grad.data\n",
        "        self.w3.data = self.w3.data - 0.01*self.w3.grad.data\n",
        "        self.w0.grad.data.zero_()\n",
        "        self.w1.grad.data.zero_()\n",
        "        self.w2.grad.data.zero_()\n",
        "        self.w3.grad.data.zero_()\n",
        "\n",
        "      self.total_loss = self.total_loss/len(train_x)\n",
        "      #print(\"training progress: \", epoch, self.total_loss.data[0])"
      ],
      "execution_count": 6,
      "outputs": []
    },
    {
      "cell_type": "code",
      "metadata": {
        "id": "BMREKXLKFbCC"
      },
      "source": [
        "class NinthOrder(torch.nn.Module):\n",
        "  def __init__(self):\n",
        "    self.w0 = Variable(torch.Tensor([1.0]), requires_grad=True)\n",
        "    self.w1 = Variable(torch.Tensor([1.0]), requires_grad=True)\n",
        "    self.w2 = Variable(torch.Tensor([1.0]), requires_grad=True)\n",
        "    self.w3 = Variable(torch.Tensor([1.0]), requires_grad=True)\n",
        "    self.w4 = Variable(torch.Tensor([1.0]), requires_grad=True)\n",
        "    self.w5 = Variable(torch.Tensor([1.0]), requires_grad=True)\n",
        "    self.w6 = Variable(torch.Tensor([1.0]), requires_grad=True)\n",
        "    self.w7 = Variable(torch.Tensor([1.0]), requires_grad=True)\n",
        "    self.w8 = Variable(torch.Tensor([1.0]), requires_grad=True)\n",
        "    self.w9 = Variable(torch.Tensor([1.0]), requires_grad=True)\n",
        "    self.total_loss = 0\n",
        "  \n",
        "  def forward(self, x):\n",
        "    return self.w9*x**9 + self.w8*x**8 + self.w7*x**7 + self.w6*x**6 + self.w5*x**5 + self.w4*x**4 + self.w3*x**3 + self.w2*x*x + self.w1*x + self.w0\n",
        "  \n",
        "  def loss(self, x, y):\n",
        "    y_pred = self.forward(x)\n",
        "    return (y_pred - y) * (y_pred - y)\n",
        "\n",
        "  def train(self, epochs, train_x, train_y):\n",
        "    for epoch in range(epochs):\n",
        "      self.total_loss = 0\n",
        "      for x_val, y_val in zip(train_x, train_y):\n",
        "        l = self.loss(x_val, y_val)\n",
        "        self.total_loss += l.data.numpy()\n",
        "        l.backward()\n",
        "\n",
        "        self.w0.data = self.w0.data - 0.01*self.w0.grad.data\n",
        "        self.w1.data = self.w1.data - 0.01*self.w1.grad.data\n",
        "        self.w2.data = self.w2.data - 0.01*self.w2.grad.data\n",
        "        self.w3.data = self.w3.data - 0.01*self.w3.grad.data\n",
        "        self.w4.data = self.w4.data - 0.01*self.w4.grad.data\n",
        "        self.w5.data = self.w5.data - 0.01*self.w5.grad.data\n",
        "        self.w6.data = self.w6.data - 0.01*self.w6.grad.data\n",
        "        self.w7.data = self.w7.data - 0.01*self.w7.grad.data\n",
        "        self.w8.data = self.w8.data - 0.01*self.w8.grad.data\n",
        "        self.w9.data = self.w9.data - 0.01*self.w9.grad.data\n",
        "        self.w0.grad.data.zero_()\n",
        "        self.w1.grad.data.zero_()\n",
        "        self.w2.grad.data.zero_()\n",
        "        self.w3.grad.data.zero_()\n",
        "        self.w4.grad.data.zero_()\n",
        "        self.w5.grad.data.zero_()\n",
        "        self.w6.grad.data.zero_()\n",
        "        self.w7.grad.data.zero_()\n",
        "        self.w8.grad.data.zero_()\n",
        "        self.w9.grad.data.zero_()\n",
        "      \n",
        "      self.total_loss = self.total_loss/len(train_x)\n",
        "      #print(\"training progress: \", epoch, self.total_loss.data[0])"
      ],
      "execution_count": 7,
      "outputs": []
    },
    {
      "cell_type": "markdown",
      "metadata": {
        "id": "xVUuzkPMGGpc"
      },
      "source": [
        "<p>Now we train our models. </p>"
      ]
    },
    {
      "cell_type": "code",
      "metadata": {
        "id": "juFzL4r1GLlz"
      },
      "source": [
        "train_losses = []\n",
        "zero_model = ZeroOrder()\n",
        "first_model = FirstOrder()\n",
        "third_model = ThirdOrder()\n",
        "ninth_model = NinthOrder()"
      ],
      "execution_count": 8,
      "outputs": []
    },
    {
      "cell_type": "code",
      "metadata": {
        "colab": {
          "base_uri": "https://localhost:8080/"
        },
        "id": "5Gm0odiDtXoN",
        "outputId": "12f83e7c-ce7e-4668-b786-27aab7d639a9"
      },
      "source": [
        "zero_model.train(100, train_x, train_y)\n",
        "print(\"Train Loss:\", zero_model.total_loss)\n",
        "train_losses.append(zero_model.total_loss)"
      ],
      "execution_count": 9,
      "outputs": [
        {
          "output_type": "stream",
          "name": "stdout",
          "text": [
            "Train Loss: [0.269359]\n"
          ]
        }
      ]
    },
    {
      "cell_type": "code",
      "metadata": {
        "colab": {
          "base_uri": "https://localhost:8080/"
        },
        "id": "VjaZMfrTtWCD",
        "outputId": "8c5d344f-1d85-4a6f-f756-9432b10857d2"
      },
      "source": [
        "first_model.train(100, train_x, train_y)\n",
        "print(\"Train Loss:\", first_model.total_loss)\n",
        "train_losses.append(first_model.total_loss)"
      ],
      "execution_count": 10,
      "outputs": [
        {
          "output_type": "stream",
          "name": "stdout",
          "text": [
            "Train Loss: [0.1843125]\n"
          ]
        }
      ]
    },
    {
      "cell_type": "code",
      "metadata": {
        "colab": {
          "base_uri": "https://localhost:8080/"
        },
        "id": "QCfr4xa7tgSs",
        "outputId": "0b47857c-5eaf-4e3f-ccdf-11be7b80e872"
      },
      "source": [
        "third_model.train(100, train_x, train_y)\n",
        "print(\"Train Loss:\", third_model.total_loss)\n",
        "train_losses.append(third_model.total_loss)"
      ],
      "execution_count": 11,
      "outputs": [
        {
          "output_type": "stream",
          "name": "stdout",
          "text": [
            "Train Loss: [0.16781142]\n"
          ]
        }
      ]
    },
    {
      "cell_type": "code",
      "metadata": {
        "colab": {
          "base_uri": "https://localhost:8080/"
        },
        "id": "KdH6MCN_tggJ",
        "outputId": "784f311b-1b18-46ad-bda0-e7f8ac3f7cbd"
      },
      "source": [
        "ninth_model.train(100, train_x, train_y)\n",
        "print(\"Train Loss:\", ninth_model.total_loss)\n",
        "train_losses.append(ninth_model.total_loss)"
      ],
      "execution_count": 12,
      "outputs": [
        {
          "output_type": "stream",
          "name": "stdout",
          "text": [
            "Train Loss: [0.15439387]\n"
          ]
        }
      ]
    },
    {
      "cell_type": "markdown",
      "metadata": {
        "id": "1JZhSNwFtmcY"
      },
      "source": [
        "<p>Visualize the results, starting with the zero order model. </p>"
      ]
    },
    {
      "cell_type": "code",
      "metadata": {
        "colab": {
          "base_uri": "https://localhost:8080/",
          "height": 265
        },
        "id": "APWRXdNYTBWZ",
        "outputId": "20bedd1b-6005-47c0-ef34-01758db5fc21"
      },
      "source": [
        "def visualize(model, train_x, train_y):\n",
        "  X = np.linspace(0,1,100)\n",
        "  preds = []\n",
        "  for x in X:\n",
        "    preds.append(model.forward(x).detach())\n",
        "\n",
        "  plt.plot(train_x, train_y, 'o')\n",
        "  plt.plot(X, preds, label=\"M = 0\")\n",
        "  plt.legend()\n",
        "  plt.show()\n",
        "\n",
        "visualize(zero_model, train_x, train_y)"
      ],
      "execution_count": 13,
      "outputs": [
        {
          "output_type": "display_data",
          "data": {
            "image/png": "[encoded data removed]",
            "text/plain": [
              "<Figure size 432x288 with 1 Axes>"
            ]
          },
          "metadata": {
            "needs_background": "light"
          }
        }
      ]
    },
    {
      "cell_type": "markdown",
      "metadata": {
        "id": "_w3Ss-zVr6Em"
      },
      "source": [
        "<p>Next, generate predictions with the model on the test data set and calculate the mean squared error. </p>"
      ]
    },
    {
      "cell_type": "code",
      "metadata": {
        "colab": {
          "base_uri": "https://localhost:8080/"
        },
        "id": "hQTAu7ZBqW4y",
        "outputId": "d836e2e8-545a-450c-d356-779cfa02c9a7"
      },
      "source": [
        "test_losses = []\n",
        "def test_loss(model):\n",
        "  test_preds = []\n",
        "  test_loss = 0\n",
        "  for i in range(len(test_x)):\n",
        "    test_preds.append(model.forward(test_x[i]).detach())\n",
        "    test_loss += (test_preds[i] - test_y[i])*(test_preds[i] - test_y[i])\n",
        "  test_loss = test_loss.detach().numpy()/len(test_x)\n",
        "  print(\"Test Loss:\", test_loss)\n",
        "  \n",
        "  return test_loss\n",
        "  \n",
        "test_losses.append(test_loss(zero_model))"
      ],
      "execution_count": 14,
      "outputs": [
        {
          "output_type": "stream",
          "name": "stdout",
          "text": [
            "Test Loss: [0.56756663]\n"
          ]
        }
      ]
    },
    {
      "cell_type": "code",
      "metadata": {
        "colab": {
          "base_uri": "https://localhost:8080/",
          "height": 265
        },
        "id": "kxyebNikUkzX",
        "outputId": "a8b04f82-450c-4f32-f641-49578fa5e799"
      },
      "source": [
        "visualize(first_model, train_x, train_y)"
      ],
      "execution_count": 15,
      "outputs": [
        {
          "output_type": "display_data",
          "data": {
            "image/png": "[encoded data removed]",
            "text/plain": [
              "<Figure size 432x288 with 1 Axes>"
            ]
          },
          "metadata": {
            "needs_background": "light"
          }
        }
      ]
    },
    {
      "cell_type": "code",
      "metadata": {
        "colab": {
          "base_uri": "https://localhost:8080/"
        },
        "id": "9TWWFFBnxbdj",
        "outputId": "4ca9f4b8-31e2-47a8-8196-4a0402d82e5b"
      },
      "source": [
        "test_losses.append(test_loss(first_model))"
      ],
      "execution_count": 16,
      "outputs": [
        {
          "output_type": "stream",
          "name": "stdout",
          "text": [
            "Test Loss: [0.36327356]\n"
          ]
        }
      ]
    },
    {
      "cell_type": "code",
      "metadata": {
        "colab": {
          "base_uri": "https://localhost:8080/",
          "height": 265
        },
        "id": "1ymy0t6OVloS",
        "outputId": "c50c3660-0827-4f9a-9aed-2ac4ca4d0768"
      },
      "source": [
        "visualize(third_model, train_x, train_y)"
      ],
      "execution_count": 17,
      "outputs": [
        {
          "output_type": "display_data",
          "data": {
            "image/png": "[encoded data removed]",
            "text/plain": [
              "<Figure size 432x288 with 1 Axes>"
            ]
          },
          "metadata": {
            "needs_background": "light"
          }
        }
      ]
    },
    {
      "cell_type": "code",
      "metadata": {
        "colab": {
          "base_uri": "https://localhost:8080/"
        },
        "id": "viFeS7qHxpZF",
        "outputId": "a520a317-9a45-4e8b-c11e-c6feb3da050d"
      },
      "source": [
        "test_losses.append(test_loss(third_model))"
      ],
      "execution_count": 18,
      "outputs": [
        {
          "output_type": "stream",
          "name": "stdout",
          "text": [
            "Test Loss: [0.28736487]\n"
          ]
        }
      ]
    },
    {
      "cell_type": "code",
      "metadata": {
        "colab": {
          "base_uri": "https://localhost:8080/",
          "height": 265
        },
        "id": "B5IPxJnPYSqn",
        "outputId": "7c90bc31-eb48-4154-8a97-f5ffb3cbcccf"
      },
      "source": [
        "visualize(ninth_model, train_x, train_y)"
      ],
      "execution_count": 19,
      "outputs": [
        {
          "output_type": "display_data",
          "data": {
            "image/png": "[encoded data removed]",
            "text/plain": [
              "<Figure size 432x288 with 1 Axes>"
            ]
          },
          "metadata": {
            "needs_background": "light"
          }
        }
      ]
    },
    {
      "cell_type": "code",
      "metadata": {
        "colab": {
          "base_uri": "https://localhost:8080/"
        },
        "id": "e8H2v6HWyf9H",
        "outputId": "3a788731-deb2-4775-e1fb-2798c6258fe6"
      },
      "source": [
        "test_losses.append(test_loss(ninth_model))"
      ],
      "execution_count": 20,
      "outputs": [
        {
          "output_type": "stream",
          "name": "stdout",
          "text": [
            "Test Loss: [0.2546939]\n"
          ]
        }
      ]
    },
    {
      "cell_type": "code",
      "metadata": {
        "id": "Z3YSwpyWlraF"
      },
      "source": [
        "val3 = [[\"\" for c in range(4)] for r in range(10)]\n",
        "val3[0][0] = zero_model.w0.detach().numpy()\n",
        "val3[0][1] = first_model.w0.detach().numpy()\n",
        "val3[0][2] = third_model.w0.detach().numpy()\n",
        "val3[0][3] = ninth_model.w0.detach().numpy()\n",
        "\n",
        "val3[1][1] = first_model.w1.detach().numpy()\n",
        "val3[1][2] = third_model.w1.detach().numpy()\n",
        "val3[1][3] = ninth_model.w1.detach().numpy()\n",
        "\n",
        "val3[2][2] = third_model.w2.detach().numpy()\n",
        "val3[2][3] = ninth_model.w2.detach().numpy()\n",
        "\n",
        "val3[3][2] = third_model.w3.detach().numpy()\n",
        "val3[3][3] = ninth_model.w3.detach().numpy()\n",
        "\n",
        "val3[4][3] = ninth_model.w4.detach().numpy()\n",
        "val3[5][3] = ninth_model.w5.detach().numpy()\n",
        "val3[6][3] = ninth_model.w6.detach().numpy()\n",
        "val3[7][3] = ninth_model.w7.detach().numpy()\n",
        "val3[8][3] = ninth_model.w8.detach().numpy()\n",
        "val3[9][3] = ninth_model.w9.detach().numpy()"
      ],
      "execution_count": 21,
      "outputs": []
    },
    {
      "cell_type": "code",
      "metadata": {
        "colab": {
          "base_uri": "https://localhost:8080/",
          "height": 301
        },
        "id": "vQpC3tVSiqiq",
        "outputId": "e849b051-661f-4f6e-b9cc-0cda5d9ac861"
      },
      "source": [
        "val1 = [\"M = 0\", \"M = 1\", \"M = 3\", \"M = 9\"] \n",
        "val2 = [\"w0\", \"w1\", \"w2\", \"w3\", \"w4\", \"w5\", \"w6\", \"w7\", \"w8\", \"w9\"] \n",
        " \n",
        "   \n",
        "fig, ax = plt.subplots() \n",
        "ax.set_axis_off() \n",
        "table = ax.table( \n",
        "    cellText = val3,  \n",
        "    rowLabels = val2,  \n",
        "    colLabels = val1, \n",
        "    rowColours =[\"palegreen\"] * 10,  \n",
        "    colColours =[\"palegreen\"] * 4, \n",
        "    cellLoc ='center',  \n",
        "    loc ='upper left')         \n",
        "   \n",
        "ax.set_title('Model Weights', \n",
        "             fontweight =\"bold\") \n",
        "   \n",
        "plt.show() "
      ],
      "execution_count": 22,
      "outputs": [
        {
          "output_type": "stream",
          "name": "stderr",
          "text": [
            "/usr/local/lib/python3.7/dist-packages/matplotlib/text.py:1165: FutureWarning: elementwise comparison failed; returning scalar instead, but in the future will perform elementwise comparison\n",
            "  if s != self._text:\n"
          ]
        },
        {
          "output_type": "display_data",
          "data": {
            "image/png": "[encoded data removed]",
            "text/plain": [
              "<Figure size 432x288 with 1 Axes>"
            ]
          },
          "metadata": {
            "needs_background": "light"
          }
        }
      ]
    },
    {
      "cell_type": "code",
      "metadata": {
        "colab": {
          "base_uri": "https://localhost:8080/",
          "height": 265
        },
        "id": "Divk0UPSsWSO",
        "outputId": "0c9c7682-f13e-4d39-9b91-ab87010d7f6d"
      },
      "source": [
        "x_vals = [\"0\",\"1\",\"3\",\"9\"]\n",
        "plt.plot(x_vals, train_losses, label='Train Loss', color=\"blue\")\n",
        "plt.plot(x_vals, train_losses, 'o', color=\"blue\")\n",
        "plt.plot(x_vals, test_losses, label=\"Test Loss\", color=\"red\")\n",
        "plt.plot(x_vals, test_losses, 'o', color=\"red\")\n",
        "plt.legend()\n",
        "plt.show()"
      ],
      "execution_count": 23,
      "outputs": [
        {
          "output_type": "display_data",
          "data": {
            "image/png": "[encoded data removed]",
            "text/plain": [
              "<Figure size 432x288 with 1 Axes>"
            ]
          },
          "metadata": {
            "needs_background": "light"
          }
        }
      ]
    },
    {
      "cell_type": "markdown",
      "metadata": {
        "id": "CGcKA3LYt2Zu"
      },
      "source": [
        "<p>Generate 100 more data points and fit the 9th order model. </p>"
      ]
    },
    {
      "cell_type": "code",
      "metadata": {
        "id": "tUCEnk76tp18"
      },
      "source": [
        "x_large = torch.Tensor(np.random.uniform(0, 1, 100))\n",
        "n_large = torch.Tensor(np.random.normal(0, 1, 100))\n",
        "y_large = torch.Tensor(np.sin(2*np.pi*x_large) + 0.1*n_large)\n",
        "\n",
        "train_x_large = x_large\n",
        "train_y_large = y_large"
      ],
      "execution_count": 24,
      "outputs": []
    },
    {
      "cell_type": "code",
      "metadata": {
        "id": "ovKrV1kWuU7D"
      },
      "source": [
        "model = NinthOrder()\n",
        "model.train(100, train_x_large, train_y_large)"
      ],
      "execution_count": 25,
      "outputs": []
    },
    {
      "cell_type": "code",
      "metadata": {
        "colab": {
          "base_uri": "https://localhost:8080/",
          "height": 265
        },
        "id": "dIh2EADluu5B",
        "outputId": "713fd9ca-3b51-4ad9-ce5c-77c425d8eb67"
      },
      "source": [
        "visualize(model, train_x_large, train_y_large)"
      ],
      "execution_count": 26,
      "outputs": [
        {
          "output_type": "display_data",
          "data": {
            "image/png": "[encoded data removed]",
            "text/plain": [
              "<Figure size 432x288 with 1 Axes>"
            ]
          },
          "metadata": {
            "needs_background": "light"
          }
        }
      ]
    },
    {
      "cell_type": "markdown",
      "metadata": {
        "id": "ZSwwsqpUv-jl"
      },
      "source": [
        "<p>Now view the effects of regularization. Redefine the 9th order model with a regularized loss function. </p>"
      ]
    },
    {
      "cell_type": "code",
      "metadata": {
        "id": "LJbklUpLwUyZ"
      },
      "source": [
        "class NinthOrder(torch.nn.Module):\n",
        "  def __init__(self):\n",
        "    self.w0 = Variable(torch.Tensor([1.0]), requires_grad=True)\n",
        "    self.w1 = Variable(torch.Tensor([1.0]), requires_grad=True)\n",
        "    self.w2 = Variable(torch.Tensor([1.0]), requires_grad=True)\n",
        "    self.w3 = Variable(torch.Tensor([1.0]), requires_grad=True)\n",
        "    self.w4 = Variable(torch.Tensor([1.0]), requires_grad=True)\n",
        "    self.w5 = Variable(torch.Tensor([1.0]), requires_grad=True)\n",
        "    self.w6 = Variable(torch.Tensor([1.0]), requires_grad=True)\n",
        "    self.w7 = Variable(torch.Tensor([1.0]), requires_grad=True)\n",
        "    self.w8 = Variable(torch.Tensor([1.0]), requires_grad=True)\n",
        "    self.w9 = Variable(torch.Tensor([1.0]), requires_grad=True)\n",
        "    self.total_loss = 0\n",
        "    self.ld = 1\n",
        "  \n",
        "  def forward(self, x):\n",
        "    return self.w9*x**9 + self.w8*x**8 + self.w7*x**7 + self.w6*x**6 + self.w5*x**5 + self.w4*x**4 + self.w3*x**3 + self.w2*x*x + self.w1*x + self.w0\n",
        "  \n",
        "  def loss(self, x, y):\n",
        "    y_pred = self.forward(x)\n",
        "    return (y_pred - y) * (y_pred - y) + self.ld*(self.w0.data**2 + self.w1.data**2 + self.w2.data**2 + self.w3.data**2 + \n",
        "                                             self.w4.data**2 + self.w5.data**2 + self.w6.data**2 + self.w7.data**2 + \n",
        "                                             self.w8.data**2 + self.w9.data**2)\n",
        "\n",
        "  def train(self, epochs, train_x, train_y):\n",
        "    for epoch in range(epochs):\n",
        "      self.total_loss = 0\n",
        "      for x_val, y_val in zip(train_x, train_y):\n",
        "        l = self.loss(x_val, y_val)\n",
        "        self.total_loss += l.data.numpy()\n",
        "        l.backward()\n",
        "\n",
        "        self.w0.data = self.w0.data - 0.01*self.w0.grad.data\n",
        "        self.w1.data = self.w1.data - 0.01*self.w1.grad.data\n",
        "        self.w2.data = self.w2.data - 0.01*self.w2.grad.data\n",
        "        self.w3.data = self.w3.data - 0.01*self.w3.grad.data\n",
        "        self.w4.data = self.w4.data - 0.01*self.w4.grad.data\n",
        "        self.w5.data = self.w5.data - 0.01*self.w5.grad.data\n",
        "        self.w6.data = self.w6.data - 0.01*self.w6.grad.data\n",
        "        self.w7.data = self.w7.data - 0.01*self.w7.grad.data\n",
        "        self.w8.data = self.w8.data - 0.01*self.w8.grad.data\n",
        "        self.w9.data = self.w9.data - 0.01*self.w9.grad.data\n",
        "        self.w0.grad.data.zero_()\n",
        "        self.w1.grad.data.zero_()\n",
        "        self.w2.grad.data.zero_()\n",
        "        self.w3.grad.data.zero_()\n",
        "        self.w4.grad.data.zero_()\n",
        "        self.w5.grad.data.zero_()\n",
        "        self.w6.grad.data.zero_()\n",
        "        self.w7.grad.data.zero_()\n",
        "        self.w8.grad.data.zero_()\n",
        "        self.w9.grad.data.zero_()\n",
        "      \n",
        "      self.total_loss = self.total_loss/len(train_x)\n",
        "      #print(\"training progress: \", epoch, self.total_loss.data[0])"
      ],
      "execution_count": 27,
      "outputs": []
    },
    {
      "cell_type": "markdown",
      "metadata": {
        "id": "I4MuaFGQAI-Z"
      },
      "source": [
        "<p>Lambda = 1 </p>"
      ]
    },
    {
      "cell_type": "code",
      "metadata": {
        "id": "nGHTMAUJ-UB2"
      },
      "source": [
        "ld_train_loss = []\n",
        "model = NinthOrder()\n",
        "model.train(100, train_x, train_y)\n",
        "ld_train_loss.append(model.total_loss)"
      ],
      "execution_count": 28,
      "outputs": []
    },
    {
      "cell_type": "code",
      "metadata": {
        "colab": {
          "base_uri": "https://localhost:8080/",
          "height": 265
        },
        "id": "6bYYbEQH_VwF",
        "outputId": "6880a0ab-9166-401e-ddfc-8b2f49782473"
      },
      "source": [
        "visualize(model, train_x, train_y)"
      ],
      "execution_count": 29,
      "outputs": [
        {
          "output_type": "display_data",
          "data": {
            "image/png": "[encoded data removed]",
            "text/plain": [
              "<Figure size 432x288 with 1 Axes>"
            ]
          },
          "metadata": {
            "needs_background": "light"
          }
        }
      ]
    },
    {
      "cell_type": "code",
      "metadata": {
        "colab": {
          "base_uri": "https://localhost:8080/"
        },
        "id": "z6tygsjTFPbT",
        "outputId": "dff7cafa-104e-40ec-9311-b2a941cf7847"
      },
      "source": [
        "ld_test_losses = []\n",
        "def ld_test_loss(model):\n",
        "  test_preds = []\n",
        "  test_loss = 0\n",
        "  for i in range(len(test_x)):\n",
        "    test_preds.append(model.forward(test_x[i]).detach())\n",
        "    test_loss += (test_preds[i] - test_y[i])*(test_preds[i] - test_y[i]) + model.ld*(model.w0.data**2 + model.w1.data**2 + model.w2.data**2 + model.w3.data**2 + \n",
        "                                             model.w4.data**2 + model.w5.data**2 + model.w6.data**2 + model.w7.data**2 + \n",
        "                                             model.w8.data**2 + model.w9.data**2)\n",
        "  test_loss = test_loss.detach().numpy()/len(test_x)\n",
        "  print(\"Test Loss:\", test_loss)\n",
        "  \n",
        "  return test_loss\n",
        "\n",
        "ld_test_losses.append(ld_test_loss(model))"
      ],
      "execution_count": 30,
      "outputs": [
        {
          "output_type": "stream",
          "name": "stdout",
          "text": [
            "Test Loss: [1.3726983]\n"
          ]
        }
      ]
    },
    {
      "cell_type": "markdown",
      "metadata": {
        "id": "KAEm3L3fAsQz"
      },
      "source": [
        "<p>Lambda = 1/10 </p>"
      ]
    },
    {
      "cell_type": "code",
      "metadata": {
        "id": "-6qA1O4rAxLx"
      },
      "source": [
        "model = NinthOrder()\n",
        "model.ld = 1/10\n",
        "model.train(100, train_x, train_y)\n",
        "ld_train_loss.append(model.total_loss)"
      ],
      "execution_count": 31,
      "outputs": []
    },
    {
      "cell_type": "code",
      "metadata": {
        "colab": {
          "base_uri": "https://localhost:8080/",
          "height": 265
        },
        "id": "q8qF-qFLA0jK",
        "outputId": "9e665c65-e542-4148-8ff7-72c83bfc92b8"
      },
      "source": [
        "visualize(model, train_x, train_y)"
      ],
      "execution_count": 32,
      "outputs": [
        {
          "output_type": "display_data",
          "data": {
            "image/png": "[encoded data removed]",
            "text/plain": [
              "<Figure size 432x288 with 1 Axes>"
            ]
          },
          "metadata": {
            "needs_background": "light"
          }
        }
      ]
    },
    {
      "cell_type": "code",
      "metadata": {
        "colab": {
          "base_uri": "https://localhost:8080/"
        },
        "id": "Zpn3Q-7zGPSK",
        "outputId": "be7d02ca-712d-4251-8b2c-01236fac35ae"
      },
      "source": [
        "ld_test_losses.append(ld_test_loss(model))"
      ],
      "execution_count": 33,
      "outputs": [
        {
          "output_type": "stream",
          "name": "stdout",
          "text": [
            "Test Loss: [0.36649433]\n"
          ]
        }
      ]
    },
    {
      "cell_type": "markdown",
      "metadata": {
        "id": "l3YsAlrbCkSN"
      },
      "source": [
        "<p>Lambda = 1/100 </p>"
      ]
    },
    {
      "cell_type": "code",
      "metadata": {
        "id": "bzdbATTCA5pT"
      },
      "source": [
        "model = NinthOrder()\n",
        "model.ld = 1/100\n",
        "model.train(100, train_x, train_y)\n",
        "ld_train_loss.append(model.total_loss)"
      ],
      "execution_count": 34,
      "outputs": []
    },
    {
      "cell_type": "code",
      "metadata": {
        "colab": {
          "base_uri": "https://localhost:8080/",
          "height": 265
        },
        "id": "TJnw759ZCnLd",
        "outputId": "be55fe32-8437-427d-a42d-e27f14dfc328"
      },
      "source": [
        "visualize(model, train_x, train_y)"
      ],
      "execution_count": 35,
      "outputs": [
        {
          "output_type": "display_data",
          "data": {
            "image/png": "[encoded data removed]",
            "text/plain": [
              "<Figure size 432x288 with 1 Axes>"
            ]
          },
          "metadata": {
            "needs_background": "light"
          }
        }
      ]
    },
    {
      "cell_type": "code",
      "metadata": {
        "colab": {
          "base_uri": "https://localhost:8080/"
        },
        "id": "FS2-7KSZGQbZ",
        "outputId": "2e73fc2e-8057-4bf7-9c06-08829342dff9"
      },
      "source": [
        "ld_test_losses.append(ld_test_loss(model))"
      ],
      "execution_count": 36,
      "outputs": [
        {
          "output_type": "stream",
          "name": "stdout",
          "text": [
            "Test Loss: [0.26587394]\n"
          ]
        }
      ]
    },
    {
      "cell_type": "markdown",
      "metadata": {
        "id": "Qqfq4upECnhE"
      },
      "source": [
        "<p>Lambda = 1/1000 </p>"
      ]
    },
    {
      "cell_type": "code",
      "metadata": {
        "id": "nqk3O76ZCo0C"
      },
      "source": [
        "model = NinthOrder()\n",
        "model.ld = 1/1000\n",
        "model.train(100, train_x, train_y)\n",
        "ld_train_loss.append(model.total_loss)"
      ],
      "execution_count": 37,
      "outputs": []
    },
    {
      "cell_type": "code",
      "metadata": {
        "colab": {
          "base_uri": "https://localhost:8080/",
          "height": 265
        },
        "id": "irpIy4O5CpQu",
        "outputId": "e569cc85-8e0c-4524-ed62-dbd26cff6ea6"
      },
      "source": [
        "visualize(model, train_x, train_y)"
      ],
      "execution_count": 38,
      "outputs": [
        {
          "output_type": "display_data",
          "data": {
            "image/png": "[encoded data removed]",
            "text/plain": [
              "<Figure size 432x288 with 1 Axes>"
            ]
          },
          "metadata": {
            "needs_background": "light"
          }
        }
      ]
    },
    {
      "cell_type": "code",
      "metadata": {
        "colab": {
          "base_uri": "https://localhost:8080/"
        },
        "id": "YlH8AbqrGRRC",
        "outputId": "9781f8fc-eafe-4419-dac4-15efb10de4e6"
      },
      "source": [
        "ld_test_losses.append(ld_test_loss(model))"
      ],
      "execution_count": 39,
      "outputs": [
        {
          "output_type": "stream",
          "name": "stdout",
          "text": [
            "Test Loss: [0.2558119]\n"
          ]
        }
      ]
    },
    {
      "cell_type": "markdown",
      "metadata": {
        "id": "xqvowx8mCp3y"
      },
      "source": [
        "<p>Lambda = 1/10000 </p>"
      ]
    },
    {
      "cell_type": "code",
      "metadata": {
        "id": "W8IVTQDnCrGu"
      },
      "source": [
        "model = NinthOrder()\n",
        "model.ld = 1/10000\n",
        "model.train(100, train_x, train_y)\n",
        "ld_train_loss.append(model.total_loss)"
      ],
      "execution_count": 40,
      "outputs": []
    },
    {
      "cell_type": "code",
      "metadata": {
        "colab": {
          "base_uri": "https://localhost:8080/",
          "height": 265
        },
        "id": "3USW86hdCrZW",
        "outputId": "e94a108a-06fb-4b87-f184-8c6602c53f9f"
      },
      "source": [
        "visualize(model, train_x, train_y)"
      ],
      "execution_count": 41,
      "outputs": [
        {
          "output_type": "display_data",
          "data": {
            "image/png": "[encoded data removed]",
            "text/plain": [
              "<Figure size 432x288 with 1 Axes>"
            ]
          },
          "metadata": {
            "needs_background": "light"
          }
        }
      ]
    },
    {
      "cell_type": "code",
      "metadata": {
        "colab": {
          "base_uri": "https://localhost:8080/"
        },
        "id": "u2NyXlBGGSBl",
        "outputId": "3c6c382a-ecf7-4076-ec03-d704a99c12e5"
      },
      "source": [
        "ld_test_losses.append(ld_test_loss(model))"
      ],
      "execution_count": 42,
      "outputs": [
        {
          "output_type": "stream",
          "name": "stdout",
          "text": [
            "Test Loss: [0.2548057]\n"
          ]
        }
      ]
    },
    {
      "cell_type": "markdown",
      "metadata": {
        "id": "bnsUs_2_Crsk"
      },
      "source": [
        "<p>Lambda = 1/100000 </p>"
      ]
    },
    {
      "cell_type": "code",
      "metadata": {
        "id": "QIocUkCMCtzV"
      },
      "source": [
        "model = NinthOrder()\n",
        "model.ld = 1/100000\n",
        "model.train(100, train_x, train_y)\n",
        "ld_train_loss.append(model.total_loss)"
      ],
      "execution_count": 43,
      "outputs": []
    },
    {
      "cell_type": "code",
      "metadata": {
        "colab": {
          "base_uri": "https://localhost:8080/",
          "height": 265
        },
        "id": "xlh-BKcGCuQW",
        "outputId": "4d9b1b1d-d4f0-4a52-9ee1-59130954ee1b"
      },
      "source": [
        "visualize(model, train_x, train_y)"
      ],
      "execution_count": 44,
      "outputs": [
        {
          "output_type": "display_data",
          "data": {
            "image/png": "[encoded data removed]",
            "text/plain": [
              "<Figure size 432x288 with 1 Axes>"
            ]
          },
          "metadata": {
            "needs_background": "light"
          }
        }
      ]
    },
    {
      "cell_type": "code",
      "metadata": {
        "colab": {
          "base_uri": "https://localhost:8080/"
        },
        "id": "ZliE8bQcGSva",
        "outputId": "06539904-3fce-4191-b4f0-c14e477c5727"
      },
      "source": [
        "ld_test_losses.append(ld_test_loss(model))"
      ],
      "execution_count": 45,
      "outputs": [
        {
          "output_type": "stream",
          "name": "stdout",
          "text": [
            "Test Loss: [0.25470507]\n"
          ]
        }
      ]
    },
    {
      "cell_type": "code",
      "metadata": {
        "colab": {
          "base_uri": "https://localhost:8080/",
          "height": 265
        },
        "id": "zG1I923OGTx1",
        "outputId": "703a9ce6-7ae1-4d81-8558-58baf502ea10"
      },
      "source": [
        "x_vals = [np.log(1), np.log(1/10), np.log(1/100), np.log(1/1000), np.log(1/10000), np.log(1/100000)]\n",
        "plt.plot(x_vals, ld_train_loss, label='Train Loss', color=\"blue\")\n",
        "plt.plot(x_vals, ld_train_loss, 'o', color=\"blue\")\n",
        "plt.plot(x_vals, ld_test_losses, label=\"Test Loss\", color=\"red\")\n",
        "plt.plot(x_vals, ld_test_losses, 'o', color=\"red\")\n",
        "plt.legend()\n",
        "plt.show()"
      ],
      "execution_count": 46,
      "outputs": [
        {
          "output_type": "display_data",
          "data": {
            "image/png": "[encoded data removed]",
            "text/plain": [
              "<Figure size 432x288 with 1 Axes>"
            ]
          },
          "metadata": {
            "needs_background": "light"
          }
        }
      ]
    }
  ]
}