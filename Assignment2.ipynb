{
  "nbformat": 4,
  "nbformat_minor": 0,
  "metadata": {
    "colab": {
      "name": "Assignment2.ipynb",
      "provenance": [],
      "collapsed_sections": []
    },
    "kernelspec": {
      "name": "python3",
      "display_name": "Python 3"
    },
    "language_info": {
      "name": "python"
    }
  },
  "cells": [
    {
      "cell_type": "code",
      "metadata": {
        "id": "sLtuhC9TlRwv"
      },
      "source": [
        "import numpy as np\n",
        "import matplotlib.pyplot as plt\n",
        "import torch\n",
        "from torch.autograd import Variable"
      ],
      "execution_count": null,
      "outputs": []
    },
    {
      "cell_type": "markdown",
      "metadata": {
        "id": "ICMr-IcgkEo6"
      },
      "source": [
        "<p>Generate 20 data points.</p>"
      ]
    },
    {
      "cell_type": "code",
      "metadata": {
        "id": "MPbQsF-Wj_3v"
      },
      "source": [
        "x = torch.Tensor(np.random.uniform(0, 1, 20))\n",
        "n = torch.Tensor(np.random.normal(0, 1, 20))\n",
        "y = torch.Tensor(np.sin(2*np.pi*x) + 0.1*n)"
      ],
      "execution_count": null,
      "outputs": []
    },
    {
      "cell_type": "markdown",
      "metadata": {
        "id": "d7pmraRnoSNR"
      },
      "source": [
        "<p>Split into 10 train and 10 test data points. </p>"
      ]
    },
    {
      "cell_type": "code",
      "metadata": {
        "id": "KHzDvXKdlfnA"
      },
      "source": [
        "train_x = x[:10]\n",
        "train_y = y[:10]\n",
        "\n",
        "test_x = x[10:]\n",
        "test_y = y[10:]"
      ],
      "execution_count": null,
      "outputs": []
    },
    {
      "cell_type": "markdown",
      "metadata": {
        "id": "GWIZpvugxK0P"
      },
      "source": [
        "<p>Define our models: zero order, first order, third order, and ninth order regression. </p>"
      ]
    },
    {
      "cell_type": "code",
      "metadata": {
        "id": "BkAz1FLoogyi"
      },
      "source": [
        "class ZeroOrder(torch.nn.Module):\n",
        "  def __init__(self):\n",
        "    self.w0 = Variable(torch.Tensor([1.0]), requires_grad=True)\n",
        "    self.total_loss = 0\n",
        "  \n",
        "  def forward(self, x):\n",
        "    return self.w0\n",
        "  \n",
        "  def loss(self, x, y):\n",
        "    y_pred = self.forward(x)\n",
        "    return (y_pred - y) * (y_pred - y)\n",
        "\n",
        "  def train(self, epochs, train_x, train_y):\n",
        "    for epoch in range(epochs):\n",
        "      self.total_loss = 0\n",
        "      for x_val, y_val in zip(train_x, train_y):\n",
        "        l = self.loss(x_val, y_val)\n",
        "        self.total_loss += l.data.numpy()\n",
        "        l.backward()\n",
        "\n",
        "        self.w0.data = self.w0.data - 0.01*self.w0.grad.data\n",
        "        self.w0.grad.data.zero_()\n",
        "      self.total_loss = np.sqrt(self.total_loss/len(train_x))\n",
        "      #print(\"training progress: \", epoch, self.total_loss.data[0])"
      ],
      "execution_count": null,
      "outputs": []
    },
    {
      "cell_type": "code",
      "metadata": {
        "id": "FyAtEAru0czM"
      },
      "source": [
        "class FirstOrder(torch.nn.Module):\n",
        "  def __init__(self):\n",
        "    self.w0 = Variable(torch.Tensor([1.0]), requires_grad=True)\n",
        "    self.w1 = Variable(torch.Tensor([1.0]), requires_grad=True)\n",
        "    self.total_loss = 0\n",
        "  \n",
        "  def forward(self, x):\n",
        "    return self.w1*x + self.w0\n",
        "  \n",
        "  def loss(self, x, y):\n",
        "    y_pred = self.forward(x)\n",
        "    return (y_pred - y) * (y_pred - y)\n",
        "\n",
        "  def train(self, epochs, train_x, train_y):\n",
        "    for epoch in range(epochs):\n",
        "      self.total_loss = 0\n",
        "      for x_val, y_val in zip(train_x, train_y):\n",
        "        l = self.loss(x_val, y_val)\n",
        "        self.total_loss += l.data.numpy()\n",
        "        l.backward()\n",
        "\n",
        "        self.w0.data = self.w0.data - 0.01*self.w0.grad.data\n",
        "        self.w1.data = self.w1.data - 0.01*self.w1.grad.data\n",
        "        self.w0.grad.data.zero_()\n",
        "        self.w1.grad.data.zero_()\n",
        "      \n",
        "      self.total_loss = np.sqrt(self.total_loss/len(train_x))\n",
        "      #print(\"training progress: \", epoch, self.total_loss.data[0])"
      ],
      "execution_count": null,
      "outputs": []
    },
    {
      "cell_type": "code",
      "metadata": {
        "id": "Kh9Uf0zJ1H57"
      },
      "source": [
        "class ThirdOrder(torch.nn.Module):\n",
        "  def __init__(self):\n",
        "    self.w0 = Variable(torch.Tensor([1.0]), requires_grad=True)\n",
        "    self.w1 = Variable(torch.Tensor([1.0]), requires_grad=True)\n",
        "    self.w2 = Variable(torch.Tensor([1.0]), requires_grad=True)\n",
        "    self.w3 = Variable(torch.Tensor([1.0]), requires_grad=True)\n",
        "    self.total_loss = 0\n",
        "  \n",
        "  def forward(self, x):\n",
        "    return self.w3*x*x*x + self.w2*x*x + self.w1*x + self.w0\n",
        "  \n",
        "  def loss(self, x, y):\n",
        "    y_pred = self.forward(x)\n",
        "    return (y_pred - y) * (y_pred - y)\n",
        "\n",
        "  def train(self, epochs, train_x, train_y):\n",
        "    for epoch in range(epochs):\n",
        "      self.total_loss = 0\n",
        "      for x_val, y_val in zip(train_x, train_y):\n",
        "        l = self.loss(x_val, y_val)\n",
        "        self.total_loss += l.data.numpy()\n",
        "        l.backward()\n",
        "\n",
        "        self.w0.data = self.w0.data - 0.01*self.w0.grad.data\n",
        "        self.w1.data = self.w1.data - 0.01*self.w1.grad.data\n",
        "        self.w2.data = self.w2.data - 0.01*self.w2.grad.data\n",
        "        self.w3.data = self.w3.data - 0.01*self.w3.grad.data\n",
        "        self.w0.grad.data.zero_()\n",
        "        self.w1.grad.data.zero_()\n",
        "        self.w2.grad.data.zero_()\n",
        "        self.w3.grad.data.zero_()\n",
        "\n",
        "      self.total_loss = np.sqrt(self.total_loss/len(train_x))\n",
        "      #print(\"training progress: \", epoch, self.total_loss.data[0])"
      ],
      "execution_count": null,
      "outputs": []
    },
    {
      "cell_type": "code",
      "metadata": {
        "id": "BMREKXLKFbCC"
      },
      "source": [
        "class NinthOrder(torch.nn.Module):\n",
        "  def __init__(self):\n",
        "    self.w0 = Variable(torch.Tensor([1.0]), requires_grad=True)\n",
        "    self.w1 = Variable(torch.Tensor([1.0]), requires_grad=True)\n",
        "    self.w2 = Variable(torch.Tensor([1.0]), requires_grad=True)\n",
        "    self.w3 = Variable(torch.Tensor([1.0]), requires_grad=True)\n",
        "    self.w4 = Variable(torch.Tensor([1.0]), requires_grad=True)\n",
        "    self.w5 = Variable(torch.Tensor([1.0]), requires_grad=True)\n",
        "    self.w6 = Variable(torch.Tensor([1.0]), requires_grad=True)\n",
        "    self.w7 = Variable(torch.Tensor([1.0]), requires_grad=True)\n",
        "    self.w8 = Variable(torch.Tensor([1.0]), requires_grad=True)\n",
        "    self.w9 = Variable(torch.Tensor([1.0]), requires_grad=True)\n",
        "    self.total_loss = 0\n",
        "  \n",
        "  def forward(self, x):\n",
        "    return self.w9*x**9 + self.w8*x**8 + self.w7*x**7 + self.w6*x**6 + self.w5*x**5 + self.w4*x**4 + self.w3*x**3 + self.w2*x*x + self.w1*x + self.w0\n",
        "  \n",
        "  def loss(self, x, y):\n",
        "    y_pred = self.forward(x)\n",
        "    return (y_pred - y) * (y_pred - y)\n",
        "\n",
        "  def train(self, epochs, train_x, train_y):\n",
        "    for epoch in range(epochs):\n",
        "      self.total_loss = 0\n",
        "      for x_val, y_val in zip(train_x, train_y):\n",
        "        l = self.loss(x_val, y_val)\n",
        "        self.total_loss += l.data.numpy()\n",
        "        l.backward()\n",
        "\n",
        "        self.w0.data = self.w0.data - 0.01*self.w0.grad.data\n",
        "        self.w1.data = self.w1.data - 0.01*self.w1.grad.data\n",
        "        self.w2.data = self.w2.data - 0.01*self.w2.grad.data\n",
        "        self.w3.data = self.w3.data - 0.01*self.w3.grad.data\n",
        "        self.w4.data = self.w4.data - 0.01*self.w4.grad.data\n",
        "        self.w5.data = self.w5.data - 0.01*self.w5.grad.data\n",
        "        self.w6.data = self.w6.data - 0.01*self.w6.grad.data\n",
        "        self.w7.data = self.w7.data - 0.01*self.w7.grad.data\n",
        "        self.w8.data = self.w8.data - 0.01*self.w8.grad.data\n",
        "        self.w9.data = self.w9.data - 0.01*self.w9.grad.data\n",
        "        self.w0.grad.data.zero_()\n",
        "        self.w1.grad.data.zero_()\n",
        "        self.w2.grad.data.zero_()\n",
        "        self.w3.grad.data.zero_()\n",
        "        self.w4.grad.data.zero_()\n",
        "        self.w5.grad.data.zero_()\n",
        "        self.w6.grad.data.zero_()\n",
        "        self.w7.grad.data.zero_()\n",
        "        self.w8.grad.data.zero_()\n",
        "        self.w9.grad.data.zero_()\n",
        "      \n",
        "      self.total_loss = np.sqrt(self.total_loss/len(train_x))\n",
        "      #print(\"training progress: \", epoch, self.total_loss.data[0])"
      ],
      "execution_count": null,
      "outputs": []
    },
    {
      "cell_type": "markdown",
      "metadata": {
        "id": "xVUuzkPMGGpc"
      },
      "source": [
        "<p>Now we train our models. </p>"
      ]
    },
    {
      "cell_type": "code",
      "metadata": {
        "id": "juFzL4r1GLlz"
      },
      "source": [
        "train_losses = []\n",
        "zero_model = ZeroOrder()\n",
        "first_model = FirstOrder()\n",
        "third_model = ThirdOrder()\n",
        "ninth_model = NinthOrder()"
      ],
      "execution_count": null,
      "outputs": []
    },
    {
      "cell_type": "code",
      "metadata": {
        "colab": {
          "base_uri": "https://localhost:8080/"
        },
        "id": "5Gm0odiDtXoN",
        "outputId": "a944c366-11c3-446d-8b7a-57eaffb80bdd"
      },
      "source": [
        "zero_model.train(100, train_x, train_y)\n",
        "print(\"Train Loss:\", zero_model.total_loss)\n",
        "train_losses.append(zero_model.total_loss)"
      ],
      "execution_count": null,
      "outputs": [
        {
          "output_type": "stream",
          "name": "stdout",
          "text": [
            "Train Loss: [0.7056702]\n"
          ]
        }
      ]
    },
    {
      "cell_type": "code",
      "metadata": {
        "colab": {
          "base_uri": "https://localhost:8080/"
        },
        "id": "VjaZMfrTtWCD",
        "outputId": "67917507-7447-41b5-f3d3-09e6d47543d1"
      },
      "source": [
        "first_model.train(100, train_x, train_y)\n",
        "print(\"Train Loss:\", first_model.total_loss)\n",
        "train_losses.append(first_model.total_loss)"
      ],
      "execution_count": null,
      "outputs": [
        {
          "output_type": "stream",
          "name": "stdout",
          "text": [
            "Train Loss: [0.35923412]\n"
          ]
        }
      ]
    },
    {
      "cell_type": "code",
      "metadata": {
        "colab": {
          "base_uri": "https://localhost:8080/"
        },
        "id": "QCfr4xa7tgSs",
        "outputId": "51c61454-338b-48a0-b2ba-1b2ce60b8082"
      },
      "source": [
        "third_model.train(100, train_x, train_y)\n",
        "print(\"Train Loss:\", third_model.total_loss)\n",
        "train_losses.append(third_model.total_loss)"
      ],
      "execution_count": null,
      "outputs": [
        {
          "output_type": "stream",
          "name": "stdout",
          "text": [
            "Train Loss: [0.2794638]\n"
          ]
        }
      ]
    },
    {
      "cell_type": "code",
      "metadata": {
        "colab": {
          "base_uri": "https://localhost:8080/"
        },
        "id": "KdH6MCN_tggJ",
        "outputId": "44d2f12f-ef3a-4e81-f8e4-4262c57e92b4"
      },
      "source": [
        "ninth_model.train(100, train_x, train_y)\n",
        "print(\"Train Loss:\", ninth_model.total_loss)\n",
        "train_losses.append(ninth_model.total_loss)"
      ],
      "execution_count": null,
      "outputs": [
        {
          "output_type": "stream",
          "name": "stdout",
          "text": [
            "Train Loss: [0.24995211]\n"
          ]
        }
      ]
    },
    {
      "cell_type": "markdown",
      "metadata": {
        "id": "1JZhSNwFtmcY"
      },
      "source": [
        "<p>Visualize the results, starting with the zero order model. </p>"
      ]
    },
    {
      "cell_type": "code",
      "metadata": {
        "colab": {
          "base_uri": "https://localhost:8080/",
          "height": 265
        },
        "id": "APWRXdNYTBWZ",
        "outputId": "2a9dfe05-3587-4f9c-c201-64fb38b84343"
      },
      "source": [
        "def visualize(model, train_x, train_y, mstr):\n",
        "  X = np.linspace(0,1,100)\n",
        "  preds = []\n",
        "  for x in X:\n",
        "    preds.append(model.forward(x).detach())\n",
        "\n",
        "  plt.plot(train_x, train_y, 'o')\n",
        "  plt.plot(X, preds, label=mstr)\n",
        "  plt.legend()\n",
        "  plt.show()\n",
        "\n",
        "visualize(zero_model, train_x, train_y, \"M = 0\")"
      ],
      "execution_count": null,
      "outputs": [
        {
          "output_type": "display_data",
          "data": {
            "image/png": "[encoded data removed]",
            "text/plain": [
              "<Figure size 432x288 with 1 Axes>"
            ]
          },
          "metadata": {
            "needs_background": "light"
          }
        }
      ]
    },
    {
      "cell_type": "markdown",
      "metadata": {
        "id": "_w3Ss-zVr6Em"
      },
      "source": [
        "<p>Next, generate predictions with the model on the test data set and calculate the mean squared error. </p>"
      ]
    },
    {
      "cell_type": "code",
      "metadata": {
        "colab": {
          "base_uri": "https://localhost:8080/"
        },
        "id": "hQTAu7ZBqW4y",
        "outputId": "e05f2484-cc88-4291-c996-5da070154096"
      },
      "source": [
        "test_losses = []\n",
        "def test_loss(model):\n",
        "  test_preds = []\n",
        "  test_loss = 0\n",
        "  for i in range(len(test_x)):\n",
        "    test_preds.append(model.forward(test_x[i]).detach())\n",
        "    test_loss += (test_preds[i] - test_y[i])*(test_preds[i] - test_y[i])\n",
        "  test_loss = np.sqrt(test_loss.detach().numpy()/len(test_x))\n",
        "  print(\"Test Loss:\", test_loss)\n",
        "  \n",
        "  return test_loss\n",
        "  \n",
        "test_losses.append(test_loss(zero_model))"
      ],
      "execution_count": null,
      "outputs": [
        {
          "output_type": "stream",
          "name": "stdout",
          "text": [
            "Test Loss: [0.6712817]\n"
          ]
        }
      ]
    },
    {
      "cell_type": "code",
      "metadata": {
        "colab": {
          "base_uri": "https://localhost:8080/",
          "height": 265
        },
        "id": "kxyebNikUkzX",
        "outputId": "e97ef1b6-92ba-4db2-d59d-d33b7aef0c9c"
      },
      "source": [
        "visualize(first_model, train_x, train_y, \"M = 1\")"
      ],
      "execution_count": null,
      "outputs": [
        {
          "output_type": "display_data",
          "data": {
            "image/png": "[encoded data removed]",
            "text/plain": [
              "<Figure size 432x288 with 1 Axes>"
            ]
          },
          "metadata": {
            "needs_background": "light"
          }
        }
      ]
    },
    {
      "cell_type": "code",
      "metadata": {
        "colab": {
          "base_uri": "https://localhost:8080/"
        },
        "id": "9TWWFFBnxbdj",
        "outputId": "cdd6cd23-05b6-4c53-e590-9c169b439f4d"
      },
      "source": [
        "test_losses.append(test_loss(first_model))"
      ],
      "execution_count": null,
      "outputs": [
        {
          "output_type": "stream",
          "name": "stdout",
          "text": [
            "Test Loss: [0.40543154]\n"
          ]
        }
      ]
    },
    {
      "cell_type": "code",
      "metadata": {
        "colab": {
          "base_uri": "https://localhost:8080/",
          "height": 265
        },
        "id": "1ymy0t6OVloS",
        "outputId": "890d1050-e80e-4aa9-dbb1-6fe53ec3788b"
      },
      "source": [
        "visualize(third_model, train_x, train_y, \"M = 3\")"
      ],
      "execution_count": null,
      "outputs": [
        {
          "output_type": "display_data",
          "data": {
            "image/png": "[encoded data removed]",
            "text/plain": [
              "<Figure size 432x288 with 1 Axes>"
            ]
          },
          "metadata": {
            "needs_background": "light"
          }
        }
      ]
    },
    {
      "cell_type": "code",
      "metadata": {
        "colab": {
          "base_uri": "https://localhost:8080/"
        },
        "id": "viFeS7qHxpZF",
        "outputId": "cff310a2-de7c-4714-ca0c-dab71c2b03a0"
      },
      "source": [
        "test_losses.append(test_loss(third_model))"
      ],
      "execution_count": null,
      "outputs": [
        {
          "output_type": "stream",
          "name": "stdout",
          "text": [
            "Test Loss: [0.33721173]\n"
          ]
        }
      ]
    },
    {
      "cell_type": "code",
      "metadata": {
        "colab": {
          "base_uri": "https://localhost:8080/",
          "height": 265
        },
        "id": "B5IPxJnPYSqn",
        "outputId": "33cb88b4-0f02-4026-e639-b61c75d8a74b"
      },
      "source": [
        "visualize(ninth_model, train_x, train_y, \"M = 9\")"
      ],
      "execution_count": null,
      "outputs": [
        {
          "output_type": "display_data",
          "data": {
            "image/png": "[encoded data removed]",
            "text/plain": [
              "<Figure size 432x288 with 1 Axes>"
            ]
          },
          "metadata": {
            "needs_background": "light"
          }
        }
      ]
    },
    {
      "cell_type": "code",
      "metadata": {
        "colab": {
          "base_uri": "https://localhost:8080/"
        },
        "id": "e8H2v6HWyf9H",
        "outputId": "f024d761-6450-498b-d452-06cc806b3f1d"
      },
      "source": [
        "test_losses.append(test_loss(ninth_model))"
      ],
      "execution_count": null,
      "outputs": [
        {
          "output_type": "stream",
          "name": "stdout",
          "text": [
            "Test Loss: [0.30717623]\n"
          ]
        }
      ]
    },
    {
      "cell_type": "code",
      "metadata": {
        "id": "Z3YSwpyWlraF"
      },
      "source": [
        "val3 = [[\"\" for c in range(4)] for r in range(10)]\n",
        "val3[0][0] = zero_model.w0.detach().numpy()\n",
        "val3[0][1] = first_model.w0.detach().numpy()\n",
        "val3[0][2] = third_model.w0.detach().numpy()\n",
        "val3[0][3] = ninth_model.w0.detach().numpy()\n",
        "\n",
        "val3[1][1] = first_model.w1.detach().numpy()\n",
        "val3[1][2] = third_model.w1.detach().numpy()\n",
        "val3[1][3] = ninth_model.w1.detach().numpy()\n",
        "\n",
        "val3[2][2] = third_model.w2.detach().numpy()\n",
        "val3[2][3] = ninth_model.w2.detach().numpy()\n",
        "\n",
        "val3[3][2] = third_model.w3.detach().numpy()\n",
        "val3[3][3] = ninth_model.w3.detach().numpy()\n",
        "\n",
        "val3[4][3] = ninth_model.w4.detach().numpy()\n",
        "val3[5][3] = ninth_model.w5.detach().numpy()\n",
        "val3[6][3] = ninth_model.w6.detach().numpy()\n",
        "val3[7][3] = ninth_model.w7.detach().numpy()\n",
        "val3[8][3] = ninth_model.w8.detach().numpy()\n",
        "val3[9][3] = ninth_model.w9.detach().numpy()"
      ],
      "execution_count": null,
      "outputs": []
    },
    {
      "cell_type": "code",
      "metadata": {
        "colab": {
          "base_uri": "https://localhost:8080/",
          "height": 301
        },
        "id": "vQpC3tVSiqiq",
        "outputId": "e210fe93-1f2a-4f53-a066-c9c7165a283f"
      },
      "source": [
        "#https://www.pythonpool.com/matplotlib-table/\n",
        "val1 = [\"M = 0\", \"M = 1\", \"M = 3\", \"M = 9\"] \n",
        "val2 = [\"w0\", \"w1\", \"w2\", \"w3\", \"w4\", \"w5\", \"w6\", \"w7\", \"w8\", \"w9\"] \n",
        " \n",
        "   \n",
        "fig, ax = plt.subplots() \n",
        "ax.set_axis_off() \n",
        "table = ax.table( \n",
        "    cellText = val3,  \n",
        "    rowLabels = val2,  \n",
        "    colLabels = val1, \n",
        "    rowColours =[\"palegreen\"] * 10,  \n",
        "    colColours =[\"palegreen\"] * 4, \n",
        "    cellLoc ='center',  \n",
        "    loc ='upper left')         \n",
        "   \n",
        "ax.set_title('Model Weights', \n",
        "             fontweight =\"bold\") \n",
        "   \n",
        "plt.show() "
      ],
      "execution_count": null,
      "outputs": [
        {
          "output_type": "stream",
          "name": "stderr",
          "text": [
            "/usr/local/lib/python3.7/dist-packages/matplotlib/text.py:1165: FutureWarning: elementwise comparison failed; returning scalar instead, but in the future will perform elementwise comparison\n",
            "  if s != self._text:\n"
          ]
        },
        {
          "output_type": "display_data",
          "data": {
            "image/png": "[encoded data removed]",
            "text/plain": [
              "<Figure size 432x288 with 1 Axes>"
            ]
          },
          "metadata": {
            "needs_background": "light"
          }
        }
      ]
    },
    {
      "cell_type": "code",
      "metadata": {
        "colab": {
          "base_uri": "https://localhost:8080/",
          "height": 279
        },
        "id": "Divk0UPSsWSO",
        "outputId": "588c9355-e15f-4191-a228-ce880708d9a3"
      },
      "source": [
        "x_vals = [\"0\",\"1\",\"3\",\"9\"]\n",
        "plt.plot(x_vals, train_losses, label='Train Loss', color=\"blue\")\n",
        "plt.plot(x_vals, train_losses, 'o', color=\"blue\")\n",
        "plt.plot(x_vals, test_losses, label=\"Test Loss\", color=\"red\")\n",
        "plt.plot(x_vals, test_losses, 'o', color=\"red\")\n",
        "plt.xlabel(\"Model Order\")\n",
        "plt.ylabel(\"MSE\")\n",
        "plt.legend()\n",
        "plt.show()"
      ],
      "execution_count": null,
      "outputs": [
        {
          "output_type": "display_data",
          "data": {
            "image/png": "[encoded data removed]",
            "text/plain": [
              "<Figure size 432x288 with 1 Axes>"
            ]
          },
          "metadata": {
            "needs_background": "light"
          }
        }
      ]
    },
    {
      "cell_type": "markdown",
      "metadata": {
        "id": "CGcKA3LYt2Zu"
      },
      "source": [
        "<p>Generate 100 more data points and fit the 9th order model. </p>"
      ]
    },
    {
      "cell_type": "code",
      "metadata": {
        "id": "tUCEnk76tp18"
      },
      "source": [
        "x_large = torch.Tensor(np.random.uniform(0, 1, 100))\n",
        "n_large = torch.Tensor(np.random.normal(0, 1, 100))\n",
        "y_large = torch.Tensor(np.sin(2*np.pi*x_large) + 0.1*n_large)\n",
        "\n",
        "train_x_large = x_large\n",
        "train_y_large = y_large"
      ],
      "execution_count": null,
      "outputs": []
    },
    {
      "cell_type": "code",
      "metadata": {
        "id": "ovKrV1kWuU7D"
      },
      "source": [
        "model = NinthOrder()\n",
        "model.train(100, train_x_large, train_y_large)"
      ],
      "execution_count": null,
      "outputs": []
    },
    {
      "cell_type": "code",
      "metadata": {
        "colab": {
          "base_uri": "https://localhost:8080/",
          "height": 265
        },
        "id": "dIh2EADluu5B",
        "outputId": "83c6f4e8-c3c5-4a85-be3b-b9237d51e109"
      },
      "source": [
        "visualize(model, train_x_large, train_y_large, \"M = 9\")"
      ],
      "execution_count": null,
      "outputs": [
        {
          "output_type": "display_data",
          "data": {
            "image/png": "[encoded data removed]",
            "text/plain": [
              "<Figure size 432x288 with 1 Axes>"
            ]
          },
          "metadata": {
            "needs_background": "light"
          }
        }
      ]
    },
    {
      "cell_type": "markdown",
      "metadata": {
        "id": "ZSwwsqpUv-jl"
      },
      "source": [
        "<p>Now view the effects of regularization. Redefine the 9th order model with a regularized loss function. </p>"
      ]
    },
    {
      "cell_type": "code",
      "metadata": {
        "id": "LJbklUpLwUyZ"
      },
      "source": [
        "class NinthOrder(torch.nn.Module):\n",
        "  def __init__(self):\n",
        "    self.w0 = Variable(torch.Tensor([1.0]), requires_grad=True)\n",
        "    self.w1 = Variable(torch.Tensor([1.0]), requires_grad=True)\n",
        "    self.w2 = Variable(torch.Tensor([1.0]), requires_grad=True)\n",
        "    self.w3 = Variable(torch.Tensor([1.0]), requires_grad=True)\n",
        "    self.w4 = Variable(torch.Tensor([1.0]), requires_grad=True)\n",
        "    self.w5 = Variable(torch.Tensor([1.0]), requires_grad=True)\n",
        "    self.w6 = Variable(torch.Tensor([1.0]), requires_grad=True)\n",
        "    self.w7 = Variable(torch.Tensor([1.0]), requires_grad=True)\n",
        "    self.w8 = Variable(torch.Tensor([1.0]), requires_grad=True)\n",
        "    self.w9 = Variable(torch.Tensor([1.0]), requires_grad=True)\n",
        "    self.total_loss = 0\n",
        "    self.ld = 1\n",
        "  \n",
        "  def forward(self, x):\n",
        "    return self.w9*x**9 + self.w8*x**8 + self.w7*x**7 + self.w6*x**6 + self.w5*x**5 + self.w4*x**4 + self.w3*x**3 + self.w2*x*x + self.w1*x + self.w0\n",
        "  \n",
        "  def loss(self, x, y):\n",
        "    y_pred = self.forward(x)\n",
        "    return (y_pred - y) * (y_pred - y) + self.ld*(self.w0.data**2 + self.w1.data**2 + self.w2.data**2 + self.w3.data**2 + \n",
        "                                             self.w4.data**2 + self.w5.data**2 + self.w6.data**2 + self.w7.data**2 + \n",
        "                                             self.w8.data**2 + self.w9.data**2)\n",
        "\n",
        "  def train(self, epochs, train_x, train_y):\n",
        "    for epoch in range(epochs):\n",
        "      self.total_loss = 0\n",
        "      for x_val, y_val in zip(train_x, train_y):\n",
        "        l = self.loss(x_val, y_val)\n",
        "        self.total_loss += l.data.numpy()\n",
        "        l.backward()\n",
        "\n",
        "        self.w0.data = self.w0.data - 0.01*self.w0.grad.data\n",
        "        self.w1.data = self.w1.data - 0.01*self.w1.grad.data\n",
        "        self.w2.data = self.w2.data - 0.01*self.w2.grad.data\n",
        "        self.w3.data = self.w3.data - 0.01*self.w3.grad.data\n",
        "        self.w4.data = self.w4.data - 0.01*self.w4.grad.data\n",
        "        self.w5.data = self.w5.data - 0.01*self.w5.grad.data\n",
        "        self.w6.data = self.w6.data - 0.01*self.w6.grad.data\n",
        "        self.w7.data = self.w7.data - 0.01*self.w7.grad.data\n",
        "        self.w8.data = self.w8.data - 0.01*self.w8.grad.data\n",
        "        self.w9.data = self.w9.data - 0.01*self.w9.grad.data\n",
        "        self.w0.grad.data.zero_()\n",
        "        self.w1.grad.data.zero_()\n",
        "        self.w2.grad.data.zero_()\n",
        "        self.w3.grad.data.zero_()\n",
        "        self.w4.grad.data.zero_()\n",
        "        self.w5.grad.data.zero_()\n",
        "        self.w6.grad.data.zero_()\n",
        "        self.w7.grad.data.zero_()\n",
        "        self.w8.grad.data.zero_()\n",
        "        self.w9.grad.data.zero_()\n",
        "      \n",
        "      self.total_loss = np.sqrt(self.total_loss/len(train_x))\n",
        "      #print(\"training progress: \", epoch, self.total_loss.data[0])"
      ],
      "execution_count": 47,
      "outputs": []
    },
    {
      "cell_type": "markdown",
      "metadata": {
        "id": "I4MuaFGQAI-Z"
      },
      "source": [
        "<p>Lambda = 1 </p>"
      ]
    },
    {
      "cell_type": "code",
      "metadata": {
        "id": "nGHTMAUJ-UB2"
      },
      "source": [
        "ld_train_loss = []\n",
        "model = NinthOrder()\n",
        "model.ld = 1\n",
        "model.train(100, train_x, train_y)\n",
        "ld_train_loss.append(model.total_loss)"
      ],
      "execution_count": 48,
      "outputs": []
    },
    {
      "cell_type": "code",
      "metadata": {
        "colab": {
          "base_uri": "https://localhost:8080/",
          "height": 265
        },
        "id": "6bYYbEQH_VwF",
        "outputId": "dc2efa6e-6827-4555-efb0-884ebcc73eb4"
      },
      "source": [
        "visualize(model, train_x, train_y, \"Lambda = 1\")"
      ],
      "execution_count": 49,
      "outputs": [
        {
          "output_type": "display_data",
          "data": {
            "image/png": "[encoded data removed]",
            "text/plain": [
              "<Figure size 432x288 with 1 Axes>"
            ]
          },
          "metadata": {
            "needs_background": "light"
          }
        }
      ]
    },
    {
      "cell_type": "code",
      "metadata": {
        "colab": {
          "base_uri": "https://localhost:8080/"
        },
        "id": "z6tygsjTFPbT",
        "outputId": "41890c20-9926-4ff4-cd16-de14373c3521"
      },
      "source": [
        "ld_test_losses = []\n",
        "def ld_test_loss(model):\n",
        "  test_preds = []\n",
        "  test_loss = 0\n",
        "  for i in range(len(test_x)):\n",
        "    test_preds.append(model.forward(test_x[i]).detach())\n",
        "    test_loss += (test_preds[i] - test_y[i])*(test_preds[i] - test_y[i]) + model.ld*(model.w0.data**2 + model.w1.data**2 + model.w2.data**2 + model.w3.data**2 + \n",
        "                                             model.w4.data**2 + model.w5.data**2 + model.w6.data**2 + model.w7.data**2 + \n",
        "                                             model.w8.data**2 + model.w9.data**2)\n",
        "  test_loss = np.sqrt(test_loss.detach().numpy()/len(test_x))\n",
        "  print(\"Test Loss:\", test_loss)\n",
        "  \n",
        "  return test_loss\n",
        "\n",
        "ld_test_losses.append(ld_test_loss(model))"
      ],
      "execution_count": 50,
      "outputs": [
        {
          "output_type": "stream",
          "name": "stdout",
          "text": [
            "Test Loss: [1.892464]\n"
          ]
        }
      ]
    },
    {
      "cell_type": "markdown",
      "metadata": {
        "id": "KAEm3L3fAsQz"
      },
      "source": [
        "<p>Lambda = 1/10 </p>"
      ]
    },
    {
      "cell_type": "code",
      "metadata": {
        "id": "-6qA1O4rAxLx"
      },
      "source": [
        "model = NinthOrder()\n",
        "model.ld = 1/10\n",
        "model.train(100, train_x, train_y)\n",
        "ld_train_loss.append(model.total_loss)"
      ],
      "execution_count": 51,
      "outputs": []
    },
    {
      "cell_type": "code",
      "metadata": {
        "colab": {
          "base_uri": "https://localhost:8080/",
          "height": 265
        },
        "id": "q8qF-qFLA0jK",
        "outputId": "d7e61498-eb20-4163-c9ca-0ee87220136a"
      },
      "source": [
        "visualize(model, train_x, train_y, \"Lambda = 1/10\")"
      ],
      "execution_count": 52,
      "outputs": [
        {
          "output_type": "display_data",
          "data": {
            "image/png": "[encoded data removed]",
            "text/plain": [
              "<Figure size 432x288 with 1 Axes>"
            ]
          },
          "metadata": {
            "needs_background": "light"
          }
        }
      ]
    },
    {
      "cell_type": "code",
      "metadata": {
        "colab": {
          "base_uri": "https://localhost:8080/"
        },
        "id": "Zpn3Q-7zGPSK",
        "outputId": "ac79e73b-273e-47fa-cdce-5295911b20c5"
      },
      "source": [
        "ld_test_losses.append(ld_test_loss(model))"
      ],
      "execution_count": 53,
      "outputs": [
        {
          "output_type": "stream",
          "name": "stdout",
          "text": [
            "Test Loss: [0.6656302]\n"
          ]
        }
      ]
    },
    {
      "cell_type": "markdown",
      "metadata": {
        "id": "l3YsAlrbCkSN"
      },
      "source": [
        "<p>Lambda = 1/100 </p>"
      ]
    },
    {
      "cell_type": "code",
      "metadata": {
        "id": "bzdbATTCA5pT"
      },
      "source": [
        "model = NinthOrder()\n",
        "model.ld = 1/100\n",
        "model.train(100, train_x, train_y)\n",
        "ld_train_loss.append(model.total_loss)"
      ],
      "execution_count": 54,
      "outputs": []
    },
    {
      "cell_type": "code",
      "metadata": {
        "colab": {
          "base_uri": "https://localhost:8080/",
          "height": 265
        },
        "id": "TJnw759ZCnLd",
        "outputId": "3c75b20d-5fcf-4523-aefa-18cde8dc2390"
      },
      "source": [
        "visualize(model, train_x, train_y, \"Lambda = 1/100\")"
      ],
      "execution_count": 55,
      "outputs": [
        {
          "output_type": "display_data",
          "data": {
            "image/png": "[encoded data removed]",
            "text/plain": [
              "<Figure size 432x288 with 1 Axes>"
            ]
          },
          "metadata": {
            "needs_background": "light"
          }
        }
      ]
    },
    {
      "cell_type": "code",
      "metadata": {
        "colab": {
          "base_uri": "https://localhost:8080/"
        },
        "id": "FS2-7KSZGQbZ",
        "outputId": "760959dd-ce5b-4c04-b3f4-710fd9bb2cb2"
      },
      "source": [
        "ld_test_losses.append(ld_test_loss(model))"
      ],
      "execution_count": 56,
      "outputs": [
        {
          "output_type": "stream",
          "name": "stdout",
          "text": [
            "Test Loss: [0.35948277]\n"
          ]
        }
      ]
    },
    {
      "cell_type": "markdown",
      "metadata": {
        "id": "Qqfq4upECnhE"
      },
      "source": [
        "<p>Lambda = 1/1000 </p>"
      ]
    },
    {
      "cell_type": "code",
      "metadata": {
        "id": "nqk3O76ZCo0C"
      },
      "source": [
        "model = NinthOrder()\n",
        "model.ld = 1/1000\n",
        "model.train(100, train_x, train_y)\n",
        "ld_train_loss.append(model.total_loss)"
      ],
      "execution_count": 57,
      "outputs": []
    },
    {
      "cell_type": "code",
      "metadata": {
        "colab": {
          "base_uri": "https://localhost:8080/",
          "height": 265
        },
        "id": "irpIy4O5CpQu",
        "outputId": "4f53e2b1-0a76-4998-a2e8-ea5b331d6c74"
      },
      "source": [
        "visualize(model, train_x, train_y, \"Lambda = 1/1000\")"
      ],
      "execution_count": 58,
      "outputs": [
        {
          "output_type": "display_data",
          "data": {
            "image/png": "[encoded data removed]",
            "text/plain": [
              "<Figure size 432x288 with 1 Axes>"
            ]
          },
          "metadata": {
            "needs_background": "light"
          }
        }
      ]
    },
    {
      "cell_type": "code",
      "metadata": {
        "colab": {
          "base_uri": "https://localhost:8080/"
        },
        "id": "YlH8AbqrGRRC",
        "outputId": "385602eb-74da-4e06-b607-b94f5461f8b6"
      },
      "source": [
        "ld_test_losses.append(ld_test_loss(model))"
      ],
      "execution_count": 59,
      "outputs": [
        {
          "output_type": "stream",
          "name": "stdout",
          "text": [
            "Test Loss: [0.31280077]\n"
          ]
        }
      ]
    },
    {
      "cell_type": "markdown",
      "metadata": {
        "id": "xqvowx8mCp3y"
      },
      "source": [
        "<p>Lambda = 1/10000 </p>"
      ]
    },
    {
      "cell_type": "code",
      "metadata": {
        "id": "W8IVTQDnCrGu"
      },
      "source": [
        "model = NinthOrder()\n",
        "model.ld = 1/10000\n",
        "model.train(100, train_x, train_y)\n",
        "ld_train_loss.append(model.total_loss)"
      ],
      "execution_count": 60,
      "outputs": []
    },
    {
      "cell_type": "code",
      "metadata": {
        "colab": {
          "base_uri": "https://localhost:8080/",
          "height": 265
        },
        "id": "3USW86hdCrZW",
        "outputId": "6d4e803b-29d2-46b4-abc6-74adf38d9c6d"
      },
      "source": [
        "visualize(model, train_x, train_y, \"Lambda = 1/10000\")"
      ],
      "execution_count": 61,
      "outputs": [
        {
          "output_type": "display_data",
          "data": {
            "image/png": "[encoded data removed]",
            "text/plain": [
              "<Figure size 432x288 with 1 Axes>"
            ]
          },
          "metadata": {
            "needs_background": "light"
          }
        }
      ]
    },
    {
      "cell_type": "code",
      "metadata": {
        "colab": {
          "base_uri": "https://localhost:8080/"
        },
        "id": "u2NyXlBGGSBl",
        "outputId": "f05f4e9c-c170-4e22-99eb-a25369130d8b"
      },
      "source": [
        "ld_test_losses.append(ld_test_loss(model))"
      ],
      "execution_count": 62,
      "outputs": [
        {
          "output_type": "stream",
          "name": "stdout",
          "text": [
            "Test Loss: [0.3077433]\n"
          ]
        }
      ]
    },
    {
      "cell_type": "markdown",
      "metadata": {
        "id": "bnsUs_2_Crsk"
      },
      "source": [
        "<p>Lambda = 1/100000 </p>"
      ]
    },
    {
      "cell_type": "code",
      "metadata": {
        "id": "QIocUkCMCtzV"
      },
      "source": [
        "model = NinthOrder()\n",
        "model.ld = 1/100000\n",
        "model.train(100, train_x, train_y)\n",
        "ld_train_loss.append(model.total_loss)"
      ],
      "execution_count": 63,
      "outputs": []
    },
    {
      "cell_type": "code",
      "metadata": {
        "colab": {
          "base_uri": "https://localhost:8080/",
          "height": 265
        },
        "id": "xlh-BKcGCuQW",
        "outputId": "ca98d2df-e31b-4784-cbb8-d648a9c3ae2d"
      },
      "source": [
        "visualize(model, train_x, train_y, \"Lambda = 1/100000\")"
      ],
      "execution_count": 64,
      "outputs": [
        {
          "output_type": "display_data",
          "data": {
            "image/png": "[encoded data removed]",
            "text/plain": [
              "<Figure size 432x288 with 1 Axes>"
            ]
          },
          "metadata": {
            "needs_background": "light"
          }
        }
      ]
    },
    {
      "cell_type": "code",
      "metadata": {
        "colab": {
          "base_uri": "https://localhost:8080/"
        },
        "id": "ZliE8bQcGSva",
        "outputId": "8fe198cd-77cd-4334-8a4e-463e069df644"
      },
      "source": [
        "ld_test_losses.append(ld_test_loss(model))"
      ],
      "execution_count": 65,
      "outputs": [
        {
          "output_type": "stream",
          "name": "stdout",
          "text": [
            "Test Loss: [0.307233]\n"
          ]
        }
      ]
    },
    {
      "cell_type": "code",
      "metadata": {
        "colab": {
          "base_uri": "https://localhost:8080/",
          "height": 279
        },
        "id": "zG1I923OGTx1",
        "outputId": "f9c497f8-da65-4f19-fe30-1ba592fbf33a"
      },
      "source": [
        "x_vals = [np.log(1), np.log(1/10), np.log(1/100), np.log(1/1000), np.log(1/10000), np.log(1/100000)]\n",
        "plt.plot(x_vals, ld_train_loss, label='Train Loss', color=\"blue\")\n",
        "plt.plot(x_vals, ld_train_loss, 'o', color=\"blue\")\n",
        "plt.plot(x_vals, ld_test_losses, label=\"Test Loss\", color=\"red\")\n",
        "plt.plot(x_vals, ld_test_losses, 'o', color=\"red\")\n",
        "plt.xlabel(\"ln(lambda)\")\n",
        "plt.ylabel(\"Regularized MSE\")\n",
        "plt.legend()\n",
        "plt.show()"
      ],
      "execution_count": 66,
      "outputs": [
        {
          "output_type": "display_data",
          "data": {
            "image/png": "[encoded data removed]",
            "text/plain": [
              "<Figure size 432x288 with 1 Axes>"
            ]
          },
          "metadata": {
            "needs_background": "light"
          }
        }
      ]
    }
  ]
}