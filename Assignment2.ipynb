{
  "nbformat": 4,
  "nbformat_minor": 0,
  "metadata": {
    "colab": {
      "name": "Assignment2.ipynb",
      "provenance": [],
      "collapsed_sections": []
    },
    "kernelspec": {
      "name": "python3",
      "display_name": "Python 3"
    },
    "language_info": {
      "name": "python"
    }
  },
  "cells": [
    {
      "cell_type": "code",
      "metadata": {
        "id": "sLtuhC9TlRwv"
      },
      "source": [
        "import numpy as np\n",
        "import matplotlib.pyplot as plt\n",
        "import torch\n",
        "from torch.autograd import Variable"
      ],
      "execution_count": 1,
      "outputs": []
    },
    {
      "cell_type": "markdown",
      "metadata": {
        "id": "ICMr-IcgkEo6"
      },
      "source": [
        "<p>Generate 20 data points.</p>"
      ]
    },
    {
      "cell_type": "code",
      "metadata": {
        "id": "MPbQsF-Wj_3v"
      },
      "source": [
        "x = torch.Tensor(np.random.uniform(0, 1, 20))\n",
        "n = torch.Tensor(np.random.normal(0, 1, 20))\n",
        "y = torch.Tensor(np.sin(2*np.pi*x) + 0.1*n)"
      ],
      "execution_count": 2,
      "outputs": []
    },
    {
      "cell_type": "markdown",
      "metadata": {
        "id": "d7pmraRnoSNR"
      },
      "source": [
        "<p>Split into 10 train and 10 test data points. </p>"
      ]
    },
    {
      "cell_type": "code",
      "metadata": {
        "id": "KHzDvXKdlfnA"
      },
      "source": [
        "train_x = x[:10]\n",
        "train_y = y[:10]\n",
        "\n",
        "test_x = x[10:]\n",
        "test_y = y[10:]"
      ],
      "execution_count": 3,
      "outputs": []
    },
    {
      "cell_type": "markdown",
      "metadata": {
        "id": "GWIZpvugxK0P"
      },
      "source": [
        "<p>Define our models: zero order, first order, third order, and ninth order regression. </p>"
      ]
    },
    {
      "cell_type": "code",
      "metadata": {
        "id": "BkAz1FLoogyi"
      },
      "source": [
        "class ZeroOrder(torch.nn.Module):\n",
        "  def __init__(self):\n",
        "    self.w0 = Variable(torch.Tensor([1.0]), requires_grad=True)\n",
        "    self.total_loss = 0\n",
        "  \n",
        "  def forward(self, x):\n",
        "    return self.w0\n",
        "  \n",
        "  def loss(self, x, y):\n",
        "    y_pred = self.forward(x)\n",
        "    return (y_pred - y) * (y_pred - y)\n",
        "\n",
        "  def train(self, epochs, train_x, train_y):\n",
        "    for epoch in range(epochs):\n",
        "      self.total_loss = 0\n",
        "      for x_val, y_val in zip(train_x, train_y):\n",
        "        l = self.loss(x_val, y_val)\n",
        "        self.total_loss += l.data.numpy()\n",
        "        l.backward()\n",
        "\n",
        "        self.w0.data = self.w0.data - 0.01*self.w0.grad.data\n",
        "        self.w0.grad.data.zero_()\n",
        "      self.total_loss = self.total_loss/len(train_x)\n",
        "      #print(\"training progress: \", epoch, self.total_loss.data[0])"
      ],
      "execution_count": 4,
      "outputs": []
    },
    {
      "cell_type": "code",
      "metadata": {
        "id": "FyAtEAru0czM"
      },
      "source": [
        "class FirstOrder(torch.nn.Module):\n",
        "  def __init__(self):\n",
        "    self.w0 = Variable(torch.Tensor([1.0]), requires_grad=True)\n",
        "    self.w1 = Variable(torch.Tensor([1.0]), requires_grad=True)\n",
        "    self.total_loss = 0\n",
        "  \n",
        "  def forward(self, x):\n",
        "    return self.w1*x + self.w0\n",
        "  \n",
        "  def loss(self, x, y):\n",
        "    y_pred = self.forward(x)\n",
        "    return (y_pred - y) * (y_pred - y)\n",
        "\n",
        "  def train(self, epochs, train_x, train_y):\n",
        "    for epoch in range(epochs):\n",
        "      self.total_loss = 0\n",
        "      for x_val, y_val in zip(train_x, train_y):\n",
        "        l = self.loss(x_val, y_val)\n",
        "        self.total_loss += l.data.numpy()\n",
        "        l.backward()\n",
        "\n",
        "        self.w0.data = self.w0.data - 0.01*self.w0.grad.data\n",
        "        self.w1.data = self.w1.data - 0.01*self.w1.grad.data\n",
        "        self.w0.grad.data.zero_()\n",
        "        self.w1.grad.data.zero_()\n",
        "      \n",
        "      self.total_loss = self.total_loss/len(train_x)\n",
        "      #print(\"training progress: \", epoch, self.total_loss.data[0])"
      ],
      "execution_count": 5,
      "outputs": []
    },
    {
      "cell_type": "code",
      "metadata": {
        "id": "Kh9Uf0zJ1H57"
      },
      "source": [
        "class ThirdOrder(torch.nn.Module):\n",
        "  def __init__(self):\n",
        "    self.w0 = Variable(torch.Tensor([1.0]), requires_grad=True)\n",
        "    self.w1 = Variable(torch.Tensor([1.0]), requires_grad=True)\n",
        "    self.w2 = Variable(torch.Tensor([1.0]), requires_grad=True)\n",
        "    self.w3 = Variable(torch.Tensor([1.0]), requires_grad=True)\n",
        "    self.total_loss = 0\n",
        "  \n",
        "  def forward(self, x):\n",
        "    return self.w3*x*x*x + self.w2*x*x + self.w1*x + self.w0\n",
        "  \n",
        "  def loss(self, x, y):\n",
        "    y_pred = self.forward(x)\n",
        "    return (y_pred - y) * (y_pred - y)\n",
        "\n",
        "  def train(self, epochs, train_x, train_y):\n",
        "    for epoch in range(epochs):\n",
        "      self.total_loss = 0\n",
        "      for x_val, y_val in zip(train_x, train_y):\n",
        "        l = self.loss(x_val, y_val)\n",
        "        self.total_loss += l.data.numpy()\n",
        "        l.backward()\n",
        "\n",
        "        self.w0.data = self.w0.data - 0.01*self.w0.grad.data\n",
        "        self.w1.data = self.w1.data - 0.01*self.w1.grad.data\n",
        "        self.w2.data = self.w2.data - 0.01*self.w2.grad.data\n",
        "        self.w3.data = self.w3.data - 0.01*self.w3.grad.data\n",
        "        self.w0.grad.data.zero_()\n",
        "        self.w1.grad.data.zero_()\n",
        "        self.w2.grad.data.zero_()\n",
        "        self.w3.grad.data.zero_()\n",
        "\n",
        "      self.total_loss = self.total_loss/len(train_x)\n",
        "      #print(\"training progress: \", epoch, self.total_loss.data[0])"
      ],
      "execution_count": 6,
      "outputs": []
    },
    {
      "cell_type": "code",
      "metadata": {
        "id": "BMREKXLKFbCC"
      },
      "source": [
        "class NinthOrder(torch.nn.Module):\n",
        "  def __init__(self):\n",
        "    self.w0 = Variable(torch.Tensor([1.0]), requires_grad=True)\n",
        "    self.w1 = Variable(torch.Tensor([1.0]), requires_grad=True)\n",
        "    self.w2 = Variable(torch.Tensor([1.0]), requires_grad=True)\n",
        "    self.w3 = Variable(torch.Tensor([1.0]), requires_grad=True)\n",
        "    self.w4 = Variable(torch.Tensor([1.0]), requires_grad=True)\n",
        "    self.w5 = Variable(torch.Tensor([1.0]), requires_grad=True)\n",
        "    self.w6 = Variable(torch.Tensor([1.0]), requires_grad=True)\n",
        "    self.w7 = Variable(torch.Tensor([1.0]), requires_grad=True)\n",
        "    self.w8 = Variable(torch.Tensor([1.0]), requires_grad=True)\n",
        "    self.w9 = Variable(torch.Tensor([1.0]), requires_grad=True)\n",
        "    self.total_loss = 0\n",
        "  \n",
        "  def forward(self, x):\n",
        "    return self.w9*x**9 + self.w8*x**8 + self.w7*x**7 + self.w6*x**6 + self.w5*x**5 + self.w4*x**4 + self.w3*x**3 + self.w2*x*x + self.w1*x + self.w0\n",
        "  \n",
        "  def loss(self, x, y):\n",
        "    y_pred = self.forward(x)\n",
        "    return (y_pred - y) * (y_pred - y)\n",
        "\n",
        "  def train(self, epochs, train_x, train_y):\n",
        "    for epoch in range(epochs):\n",
        "      self.total_loss = 0\n",
        "      for x_val, y_val in zip(train_x, train_y):\n",
        "        l = self.loss(x_val, y_val)\n",
        "        self.total_loss += l.data.numpy()\n",
        "        l.backward()\n",
        "\n",
        "        self.w0.data = self.w0.data - 0.01*self.w0.grad.data\n",
        "        self.w1.data = self.w1.data - 0.01*self.w1.grad.data\n",
        "        self.w2.data = self.w2.data - 0.01*self.w2.grad.data\n",
        "        self.w3.data = self.w3.data - 0.01*self.w3.grad.data\n",
        "        self.w4.data = self.w4.data - 0.01*self.w4.grad.data\n",
        "        self.w5.data = self.w5.data - 0.01*self.w5.grad.data\n",
        "        self.w6.data = self.w6.data - 0.01*self.w6.grad.data\n",
        "        self.w7.data = self.w7.data - 0.01*self.w7.grad.data\n",
        "        self.w8.data = self.w8.data - 0.01*self.w8.grad.data\n",
        "        self.w9.data = self.w9.data - 0.01*self.w9.grad.data\n",
        "        self.w0.grad.data.zero_()\n",
        "        self.w1.grad.data.zero_()\n",
        "        self.w2.grad.data.zero_()\n",
        "        self.w3.grad.data.zero_()\n",
        "        self.w4.grad.data.zero_()\n",
        "        self.w5.grad.data.zero_()\n",
        "        self.w6.grad.data.zero_()\n",
        "        self.w7.grad.data.zero_()\n",
        "        self.w8.grad.data.zero_()\n",
        "        self.w9.grad.data.zero_()\n",
        "      \n",
        "      self.total_loss = self.total_loss/len(train_x)\n",
        "      #print(\"training progress: \", epoch, self.total_loss.data[0])"
      ],
      "execution_count": 7,
      "outputs": []
    },
    {
      "cell_type": "markdown",
      "metadata": {
        "id": "xVUuzkPMGGpc"
      },
      "source": [
        "<p>Now we train our models. </p>"
      ]
    },
    {
      "cell_type": "code",
      "metadata": {
        "id": "juFzL4r1GLlz"
      },
      "source": [
        "zero_model = ZeroOrder()\n",
        "first_model = FirstOrder()\n",
        "third_model = ThirdOrder()\n",
        "ninth_model = NinthOrder()"
      ],
      "execution_count": 8,
      "outputs": []
    },
    {
      "cell_type": "code",
      "metadata": {
        "colab": {
          "base_uri": "https://localhost:8080/"
        },
        "id": "5Gm0odiDtXoN",
        "outputId": "ef5a54c8-0f59-4f35-8162-a16c784dd391"
      },
      "source": [
        "zero_model.train(100, train_x, train_y)\n",
        "print(\"Train Loss:\", zero_model.total_loss)"
      ],
      "execution_count": 9,
      "outputs": [
        {
          "output_type": "stream",
          "name": "stdout",
          "text": [
            "Train Loss: [0.4045598]\n"
          ]
        }
      ]
    },
    {
      "cell_type": "code",
      "metadata": {
        "colab": {
          "base_uri": "https://localhost:8080/"
        },
        "id": "VjaZMfrTtWCD",
        "outputId": "22026f18-d4da-4f8d-b7f6-1f5482f56c28"
      },
      "source": [
        "first_model.train(100, train_x, train_y)\n",
        "print(\"Train Loss:\", first_model.total_loss)"
      ],
      "execution_count": 10,
      "outputs": [
        {
          "output_type": "stream",
          "name": "stdout",
          "text": [
            "Train Loss: [0.22542839]\n"
          ]
        }
      ]
    },
    {
      "cell_type": "code",
      "metadata": {
        "colab": {
          "base_uri": "https://localhost:8080/"
        },
        "id": "QCfr4xa7tgSs",
        "outputId": "6aa35cc4-a143-427b-cf34-77249ef66476"
      },
      "source": [
        "third_model.train(100, train_x, train_y)\n",
        "print(\"Train Loss:\", third_model.total_loss)"
      ],
      "execution_count": 11,
      "outputs": [
        {
          "output_type": "stream",
          "name": "stdout",
          "text": [
            "Train Loss: [0.19418941]\n"
          ]
        }
      ]
    },
    {
      "cell_type": "code",
      "metadata": {
        "colab": {
          "base_uri": "https://localhost:8080/"
        },
        "id": "KdH6MCN_tggJ",
        "outputId": "968ef3ed-c7e9-4a9f-d98d-b8cfe51d3a4b"
      },
      "source": [
        "ninth_model.train(100, train_x, train_y)\n",
        "print(\"Train Loss:\", ninth_model.total_loss)"
      ],
      "execution_count": 12,
      "outputs": [
        {
          "output_type": "stream",
          "name": "stdout",
          "text": [
            "Train Loss: [0.12169985]\n"
          ]
        }
      ]
    },
    {
      "cell_type": "markdown",
      "metadata": {
        "id": "1JZhSNwFtmcY"
      },
      "source": [
        "<p>Visualize the results, starting with the zero order model. </p>"
      ]
    },
    {
      "cell_type": "code",
      "metadata": {
        "colab": {
          "base_uri": "https://localhost:8080/",
          "height": 265
        },
        "id": "APWRXdNYTBWZ",
        "outputId": "f6bb2c7b-0f5d-49a8-fbf4-25974d13c377"
      },
      "source": [
        "X = np.linspace(0,1,100)\n",
        "preds = []\n",
        "for x in X:\n",
        "  preds.append(zero_model.forward(x).detach())\n",
        "\n",
        "plt.plot(train_x, train_y, 'o')\n",
        "plt.plot(X, preds, label=\"M = 0\")\n",
        "plt.legend()\n",
        "plt.show()"
      ],
      "execution_count": 13,
      "outputs": [
        {
          "output_type": "display_data",
          "data": {
            "image/png": "[encoded data removed]",
            "text/plain": [
              "<Figure size 432x288 with 1 Axes>"
            ]
          },
          "metadata": {
            "needs_background": "light"
          }
        }
      ]
    },
    {
      "cell_type": "markdown",
      "metadata": {
        "id": "_w3Ss-zVr6Em"
      },
      "source": [
        "<p>Next, generate predictions with the model on the test data set and calculate the mean squared error. </p>"
      ]
    },
    {
      "cell_type": "code",
      "metadata": {
        "colab": {
          "base_uri": "https://localhost:8080/"
        },
        "id": "hQTAu7ZBqW4y",
        "outputId": "4c2694d2-50c5-4db7-901a-4e10c8b92647"
      },
      "source": [
        "def test_loss(model):\n",
        "  test_preds = []\n",
        "  test_loss = 0\n",
        "  for i in range(len(test_x)):\n",
        "    test_preds.append(model.forward(test_x[i]).detach())\n",
        "    test_loss += (test_preds[i] - test_y[i])*(test_preds[i] - test_y[i])\n",
        "  test_loss = test_loss.detach().numpy()/len(test_x)\n",
        "  print(\"Test Loss:\", test_loss)\n",
        "  \n",
        "  return test_loss\n",
        "  \n",
        "zero_test_loss = test_loss(zero_model)"
      ],
      "execution_count": 14,
      "outputs": [
        {
          "output_type": "stream",
          "name": "stdout",
          "text": [
            "Test Loss: [0.7786877]\n"
          ]
        }
      ]
    },
    {
      "cell_type": "code",
      "metadata": {
        "colab": {
          "base_uri": "https://localhost:8080/",
          "height": 265
        },
        "id": "kxyebNikUkzX",
        "outputId": "14eb2914-8d02-4f23-e14d-c4390d1c19c1"
      },
      "source": [
        "X = np.linspace(0,1,100)\n",
        "preds = []\n",
        "for x in X:\n",
        "  preds.append(first_model.forward(x).detach())\n",
        "\n",
        "plt.plot(train_x, train_y, 'o')\n",
        "plt.plot(X, preds, label=\"M = 1\")\n",
        "plt.legend()\n",
        "plt.show()"
      ],
      "execution_count": 15,
      "outputs": [
        {
          "output_type": "display_data",
          "data": {
            "image/png": "[encoded data removed]",
            "text/plain": [
              "<Figure size 432x288 with 1 Axes>"
            ]
          },
          "metadata": {
            "needs_background": "light"
          }
        }
      ]
    },
    {
      "cell_type": "code",
      "metadata": {
        "colab": {
          "base_uri": "https://localhost:8080/"
        },
        "id": "9TWWFFBnxbdj",
        "outputId": "cde951ba-081e-45b9-ce26-b4ffcc221491"
      },
      "source": [
        "test_loss(first_model)"
      ],
      "execution_count": 16,
      "outputs": [
        {
          "output_type": "stream",
          "name": "stdout",
          "text": [
            "Test Loss: [0.39195135]\n"
          ]
        },
        {
          "output_type": "execute_result",
          "data": {
            "text/plain": [
              "array([0.39195135], dtype=float32)"
            ]
          },
          "metadata": {},
          "execution_count": 16
        }
      ]
    },
    {
      "cell_type": "code",
      "metadata": {
        "colab": {
          "base_uri": "https://localhost:8080/",
          "height": 265
        },
        "id": "1ymy0t6OVloS",
        "outputId": "9ab046dc-dd44-4d06-e8e9-d569650c6856"
      },
      "source": [
        "X = np.linspace(0,1,100)\n",
        "preds = []\n",
        "for x in X:\n",
        "  preds.append(third_model.forward(x).detach())\n",
        "plt.plot(train_x, train_y, 'o')\n",
        "plt.plot(X, preds, label=\"M = 3\")\n",
        "plt.legend()\n",
        "plt.show()"
      ],
      "execution_count": 17,
      "outputs": [
        {
          "output_type": "display_data",
          "data": {
            "image/png": "[encoded data removed]",
            "text/plain": [
              "<Figure size 432x288 with 1 Axes>"
            ]
          },
          "metadata": {
            "needs_background": "light"
          }
        }
      ]
    },
    {
      "cell_type": "code",
      "metadata": {
        "colab": {
          "base_uri": "https://localhost:8080/"
        },
        "id": "viFeS7qHxpZF",
        "outputId": "3016941b-1107-4231-9333-368a98db2a69"
      },
      "source": [
        "test_loss(third_model)"
      ],
      "execution_count": 18,
      "outputs": [
        {
          "output_type": "stream",
          "name": "stdout",
          "text": [
            "Test Loss: [0.25649422]\n"
          ]
        },
        {
          "output_type": "execute_result",
          "data": {
            "text/plain": [
              "array([0.25649422], dtype=float32)"
            ]
          },
          "metadata": {},
          "execution_count": 18
        }
      ]
    },
    {
      "cell_type": "code",
      "metadata": {
        "colab": {
          "base_uri": "https://localhost:8080/",
          "height": 265
        },
        "id": "B5IPxJnPYSqn",
        "outputId": "5627a2b2-8a07-4329-d6aa-8e204028ce41"
      },
      "source": [
        "X = np.linspace(0,1,100)\n",
        "preds = []\n",
        "for x in X:\n",
        "  preds.append(ninth_model.forward(x).detach())\n",
        "plt.plot(train_x, train_y, 'o')\n",
        "plt.plot(X, preds, label=\"M = 9\")\n",
        "plt.legend()\n",
        "plt.show()"
      ],
      "execution_count": 19,
      "outputs": [
        {
          "output_type": "display_data",
          "data": {
            "image/png": "[encoded data removed]",
            "text/plain": [
              "<Figure size 432x288 with 1 Axes>"
            ]
          },
          "metadata": {
            "needs_background": "light"
          }
        }
      ]
    },
    {
      "cell_type": "code",
      "metadata": {
        "colab": {
          "base_uri": "https://localhost:8080/"
        },
        "id": "e8H2v6HWyf9H",
        "outputId": "fd581092-53d6-4aec-fb8a-b46e88ae6374"
      },
      "source": [
        "test_loss(ninth_model)"
      ],
      "execution_count": 20,
      "outputs": [
        {
          "output_type": "stream",
          "name": "stdout",
          "text": [
            "Test Loss: [0.19677587]\n"
          ]
        },
        {
          "output_type": "execute_result",
          "data": {
            "text/plain": [
              "array([0.19677587], dtype=float32)"
            ]
          },
          "metadata": {},
          "execution_count": 20
        }
      ]
    }
  ]
}